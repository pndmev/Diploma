{
  "nbformat": 4,
  "nbformat_minor": 0,
  "metadata": {
    "colab": {
      "name": "NNSA_Sandbox.ipynb",
      "provenance": [],
      "collapsed_sections": [],
      "authorship_tag": "ABX9TyP3CHoFcWBXV5ZQFVODSrKa"
    },
    "kernelspec": {
      "name": "python3",
      "display_name": "Python 3"
    },
    "language_info": {
      "name": "python"
    },
    "widgets": {
      "application/vnd.jupyter.widget-state+json": {
        "de7078fa3e284935a2e76c0fcdfedee8": {
          "model_module": "@jupyter-widgets/controls",
          "model_name": "HBoxModel",
          "state": {
            "_view_name": "HBoxView",
            "_dom_classes": [],
            "_model_name": "HBoxModel",
            "_view_module": "@jupyter-widgets/controls",
            "_model_module_version": "1.5.0",
            "_view_count": null,
            "_view_module_version": "1.5.0",
            "box_style": "",
            "layout": "IPY_MODEL_a9e7dd995911426d8b4758b948f287a0",
            "_model_module": "@jupyter-widgets/controls",
            "children": [
              "IPY_MODEL_f8b04f7a7f8e4e718141a8f131830915",
              "IPY_MODEL_0438c7c332424f40b1f2e12994ca3d02"
            ]
          }
        },
        "a9e7dd995911426d8b4758b948f287a0": {
          "model_module": "@jupyter-widgets/base",
          "model_name": "LayoutModel",
          "state": {
            "_view_name": "LayoutView",
            "grid_template_rows": null,
            "right": null,
            "justify_content": null,
            "_view_module": "@jupyter-widgets/base",
            "overflow": null,
            "_model_module_version": "1.2.0",
            "_view_count": null,
            "flex_flow": null,
            "width": null,
            "min_width": null,
            "border": null,
            "align_items": null,
            "bottom": null,
            "_model_module": "@jupyter-widgets/base",
            "top": null,
            "grid_column": null,
            "overflow_y": null,
            "overflow_x": null,
            "grid_auto_flow": null,
            "grid_area": null,
            "grid_template_columns": null,
            "flex": null,
            "_model_name": "LayoutModel",
            "justify_items": null,
            "grid_row": null,
            "max_height": null,
            "align_content": null,
            "visibility": null,
            "align_self": null,
            "height": null,
            "min_height": null,
            "padding": null,
            "grid_auto_rows": null,
            "grid_gap": null,
            "max_width": null,
            "order": null,
            "_view_module_version": "1.2.0",
            "grid_template_areas": null,
            "object_position": null,
            "object_fit": null,
            "grid_auto_columns": null,
            "margin": null,
            "display": null,
            "left": null
          }
        },
        "f8b04f7a7f8e4e718141a8f131830915": {
          "model_module": "@jupyter-widgets/controls",
          "model_name": "FloatProgressModel",
          "state": {
            "_view_name": "ProgressView",
            "style": "IPY_MODEL_90b11e575692423b99a39e7ea0ab7f0a",
            "_dom_classes": [],
            "description": "Downloading: 100%",
            "_model_name": "FloatProgressModel",
            "bar_style": "success",
            "max": 570,
            "_view_module": "@jupyter-widgets/controls",
            "_model_module_version": "1.5.0",
            "value": 570,
            "_view_count": null,
            "_view_module_version": "1.5.0",
            "orientation": "horizontal",
            "min": 0,
            "description_tooltip": null,
            "_model_module": "@jupyter-widgets/controls",
            "layout": "IPY_MODEL_797131aa950847388a144a90661bd0e0"
          }
        },
        "0438c7c332424f40b1f2e12994ca3d02": {
          "model_module": "@jupyter-widgets/controls",
          "model_name": "HTMLModel",
          "state": {
            "_view_name": "HTMLView",
            "style": "IPY_MODEL_a16b014c65014f2e9144db4c9418d5b5",
            "_dom_classes": [],
            "description": "",
            "_model_name": "HTMLModel",
            "placeholder": "​",
            "_view_module": "@jupyter-widgets/controls",
            "_model_module_version": "1.5.0",
            "value": " 570/570 [00:01&lt;00:00, 381B/s]",
            "_view_count": null,
            "_view_module_version": "1.5.0",
            "description_tooltip": null,
            "_model_module": "@jupyter-widgets/controls",
            "layout": "IPY_MODEL_e6a34c39e58840d0bbedd38e3853e658"
          }
        },
        "90b11e575692423b99a39e7ea0ab7f0a": {
          "model_module": "@jupyter-widgets/controls",
          "model_name": "ProgressStyleModel",
          "state": {
            "_view_name": "StyleView",
            "_model_name": "ProgressStyleModel",
            "description_width": "initial",
            "_view_module": "@jupyter-widgets/base",
            "_model_module_version": "1.5.0",
            "_view_count": null,
            "_view_module_version": "1.2.0",
            "bar_color": null,
            "_model_module": "@jupyter-widgets/controls"
          }
        },
        "797131aa950847388a144a90661bd0e0": {
          "model_module": "@jupyter-widgets/base",
          "model_name": "LayoutModel",
          "state": {
            "_view_name": "LayoutView",
            "grid_template_rows": null,
            "right": null,
            "justify_content": null,
            "_view_module": "@jupyter-widgets/base",
            "overflow": null,
            "_model_module_version": "1.2.0",
            "_view_count": null,
            "flex_flow": null,
            "width": null,
            "min_width": null,
            "border": null,
            "align_items": null,
            "bottom": null,
            "_model_module": "@jupyter-widgets/base",
            "top": null,
            "grid_column": null,
            "overflow_y": null,
            "overflow_x": null,
            "grid_auto_flow": null,
            "grid_area": null,
            "grid_template_columns": null,
            "flex": null,
            "_model_name": "LayoutModel",
            "justify_items": null,
            "grid_row": null,
            "max_height": null,
            "align_content": null,
            "visibility": null,
            "align_self": null,
            "height": null,
            "min_height": null,
            "padding": null,
            "grid_auto_rows": null,
            "grid_gap": null,
            "max_width": null,
            "order": null,
            "_view_module_version": "1.2.0",
            "grid_template_areas": null,
            "object_position": null,
            "object_fit": null,
            "grid_auto_columns": null,
            "margin": null,
            "display": null,
            "left": null
          }
        },
        "a16b014c65014f2e9144db4c9418d5b5": {
          "model_module": "@jupyter-widgets/controls",
          "model_name": "DescriptionStyleModel",
          "state": {
            "_view_name": "StyleView",
            "_model_name": "DescriptionStyleModel",
            "description_width": "",
            "_view_module": "@jupyter-widgets/base",
            "_model_module_version": "1.5.0",
            "_view_count": null,
            "_view_module_version": "1.2.0",
            "_model_module": "@jupyter-widgets/controls"
          }
        },
        "e6a34c39e58840d0bbedd38e3853e658": {
          "model_module": "@jupyter-widgets/base",
          "model_name": "LayoutModel",
          "state": {
            "_view_name": "LayoutView",
            "grid_template_rows": null,
            "right": null,
            "justify_content": null,
            "_view_module": "@jupyter-widgets/base",
            "overflow": null,
            "_model_module_version": "1.2.0",
            "_view_count": null,
            "flex_flow": null,
            "width": null,
            "min_width": null,
            "border": null,
            "align_items": null,
            "bottom": null,
            "_model_module": "@jupyter-widgets/base",
            "top": null,
            "grid_column": null,
            "overflow_y": null,
            "overflow_x": null,
            "grid_auto_flow": null,
            "grid_area": null,
            "grid_template_columns": null,
            "flex": null,
            "_model_name": "LayoutModel",
            "justify_items": null,
            "grid_row": null,
            "max_height": null,
            "align_content": null,
            "visibility": null,
            "align_self": null,
            "height": null,
            "min_height": null,
            "padding": null,
            "grid_auto_rows": null,
            "grid_gap": null,
            "max_width": null,
            "order": null,
            "_view_module_version": "1.2.0",
            "grid_template_areas": null,
            "object_position": null,
            "object_fit": null,
            "grid_auto_columns": null,
            "margin": null,
            "display": null,
            "left": null
          }
        },
        "ca041eb12a844479b8b0dd7058ee0599": {
          "model_module": "@jupyter-widgets/controls",
          "model_name": "HBoxModel",
          "state": {
            "_view_name": "HBoxView",
            "_dom_classes": [],
            "_model_name": "HBoxModel",
            "_view_module": "@jupyter-widgets/controls",
            "_model_module_version": "1.5.0",
            "_view_count": null,
            "_view_module_version": "1.5.0",
            "box_style": "",
            "layout": "IPY_MODEL_7bf00820d7fb40b58e0409353d718805",
            "_model_module": "@jupyter-widgets/controls",
            "children": [
              "IPY_MODEL_325843c4913146ceadbe8f5eb90ad2ca",
              "IPY_MODEL_6a044d4a220348fcab4fe5e7c6ae47c6"
            ]
          }
        },
        "7bf00820d7fb40b58e0409353d718805": {
          "model_module": "@jupyter-widgets/base",
          "model_name": "LayoutModel",
          "state": {
            "_view_name": "LayoutView",
            "grid_template_rows": null,
            "right": null,
            "justify_content": null,
            "_view_module": "@jupyter-widgets/base",
            "overflow": null,
            "_model_module_version": "1.2.0",
            "_view_count": null,
            "flex_flow": null,
            "width": null,
            "min_width": null,
            "border": null,
            "align_items": null,
            "bottom": null,
            "_model_module": "@jupyter-widgets/base",
            "top": null,
            "grid_column": null,
            "overflow_y": null,
            "overflow_x": null,
            "grid_auto_flow": null,
            "grid_area": null,
            "grid_template_columns": null,
            "flex": null,
            "_model_name": "LayoutModel",
            "justify_items": null,
            "grid_row": null,
            "max_height": null,
            "align_content": null,
            "visibility": null,
            "align_self": null,
            "height": null,
            "min_height": null,
            "padding": null,
            "grid_auto_rows": null,
            "grid_gap": null,
            "max_width": null,
            "order": null,
            "_view_module_version": "1.2.0",
            "grid_template_areas": null,
            "object_position": null,
            "object_fit": null,
            "grid_auto_columns": null,
            "margin": null,
            "display": null,
            "left": null
          }
        },
        "325843c4913146ceadbe8f5eb90ad2ca": {
          "model_module": "@jupyter-widgets/controls",
          "model_name": "FloatProgressModel",
          "state": {
            "_view_name": "ProgressView",
            "style": "IPY_MODEL_bafdaaa2579a4b999e5f63752bd3f47c",
            "_dom_classes": [],
            "description": "Downloading: 100%",
            "_model_name": "FloatProgressModel",
            "bar_style": "success",
            "max": 213450,
            "_view_module": "@jupyter-widgets/controls",
            "_model_module_version": "1.5.0",
            "value": 213450,
            "_view_count": null,
            "_view_module_version": "1.5.0",
            "orientation": "horizontal",
            "min": 0,
            "description_tooltip": null,
            "_model_module": "@jupyter-widgets/controls",
            "layout": "IPY_MODEL_3dc61400df204ccaa811c06e1bfe77a1"
          }
        },
        "6a044d4a220348fcab4fe5e7c6ae47c6": {
          "model_module": "@jupyter-widgets/controls",
          "model_name": "HTMLModel",
          "state": {
            "_view_name": "HTMLView",
            "style": "IPY_MODEL_edfbccc22e524cd59e24b2426be4327f",
            "_dom_classes": [],
            "description": "",
            "_model_name": "HTMLModel",
            "placeholder": "​",
            "_view_module": "@jupyter-widgets/controls",
            "_model_module_version": "1.5.0",
            "value": " 213k/213k [00:00&lt;00:00, 237kB/s]",
            "_view_count": null,
            "_view_module_version": "1.5.0",
            "description_tooltip": null,
            "_model_module": "@jupyter-widgets/controls",
            "layout": "IPY_MODEL_18a236f0e4444b9c84a1b383e852736e"
          }
        },
        "bafdaaa2579a4b999e5f63752bd3f47c": {
          "model_module": "@jupyter-widgets/controls",
          "model_name": "ProgressStyleModel",
          "state": {
            "_view_name": "StyleView",
            "_model_name": "ProgressStyleModel",
            "description_width": "initial",
            "_view_module": "@jupyter-widgets/base",
            "_model_module_version": "1.5.0",
            "_view_count": null,
            "_view_module_version": "1.2.0",
            "bar_color": null,
            "_model_module": "@jupyter-widgets/controls"
          }
        },
        "3dc61400df204ccaa811c06e1bfe77a1": {
          "model_module": "@jupyter-widgets/base",
          "model_name": "LayoutModel",
          "state": {
            "_view_name": "LayoutView",
            "grid_template_rows": null,
            "right": null,
            "justify_content": null,
            "_view_module": "@jupyter-widgets/base",
            "overflow": null,
            "_model_module_version": "1.2.0",
            "_view_count": null,
            "flex_flow": null,
            "width": null,
            "min_width": null,
            "border": null,
            "align_items": null,
            "bottom": null,
            "_model_module": "@jupyter-widgets/base",
            "top": null,
            "grid_column": null,
            "overflow_y": null,
            "overflow_x": null,
            "grid_auto_flow": null,
            "grid_area": null,
            "grid_template_columns": null,
            "flex": null,
            "_model_name": "LayoutModel",
            "justify_items": null,
            "grid_row": null,
            "max_height": null,
            "align_content": null,
            "visibility": null,
            "align_self": null,
            "height": null,
            "min_height": null,
            "padding": null,
            "grid_auto_rows": null,
            "grid_gap": null,
            "max_width": null,
            "order": null,
            "_view_module_version": "1.2.0",
            "grid_template_areas": null,
            "object_position": null,
            "object_fit": null,
            "grid_auto_columns": null,
            "margin": null,
            "display": null,
            "left": null
          }
        },
        "edfbccc22e524cd59e24b2426be4327f": {
          "model_module": "@jupyter-widgets/controls",
          "model_name": "DescriptionStyleModel",
          "state": {
            "_view_name": "StyleView",
            "_model_name": "DescriptionStyleModel",
            "description_width": "",
            "_view_module": "@jupyter-widgets/base",
            "_model_module_version": "1.5.0",
            "_view_count": null,
            "_view_module_version": "1.2.0",
            "_model_module": "@jupyter-widgets/controls"
          }
        },
        "18a236f0e4444b9c84a1b383e852736e": {
          "model_module": "@jupyter-widgets/base",
          "model_name": "LayoutModel",
          "state": {
            "_view_name": "LayoutView",
            "grid_template_rows": null,
            "right": null,
            "justify_content": null,
            "_view_module": "@jupyter-widgets/base",
            "overflow": null,
            "_model_module_version": "1.2.0",
            "_view_count": null,
            "flex_flow": null,
            "width": null,
            "min_width": null,
            "border": null,
            "align_items": null,
            "bottom": null,
            "_model_module": "@jupyter-widgets/base",
            "top": null,
            "grid_column": null,
            "overflow_y": null,
            "overflow_x": null,
            "grid_auto_flow": null,
            "grid_area": null,
            "grid_template_columns": null,
            "flex": null,
            "_model_name": "LayoutModel",
            "justify_items": null,
            "grid_row": null,
            "max_height": null,
            "align_content": null,
            "visibility": null,
            "align_self": null,
            "height": null,
            "min_height": null,
            "padding": null,
            "grid_auto_rows": null,
            "grid_gap": null,
            "max_width": null,
            "order": null,
            "_view_module_version": "1.2.0",
            "grid_template_areas": null,
            "object_position": null,
            "object_fit": null,
            "grid_auto_columns": null,
            "margin": null,
            "display": null,
            "left": null
          }
        },
        "627bb3b17bdf47eda1d2da2c8d8b057f": {
          "model_module": "@jupyter-widgets/controls",
          "model_name": "HBoxModel",
          "state": {
            "_view_name": "HBoxView",
            "_dom_classes": [],
            "_model_name": "HBoxModel",
            "_view_module": "@jupyter-widgets/controls",
            "_model_module_version": "1.5.0",
            "_view_count": null,
            "_view_module_version": "1.5.0",
            "box_style": "",
            "layout": "IPY_MODEL_9b8b0a2f079a4d84bb91d88a8f57f376",
            "_model_module": "@jupyter-widgets/controls",
            "children": [
              "IPY_MODEL_3c6ee870cf724aca83077c27bbb174ac",
              "IPY_MODEL_9d3bff80fa184416a1232c060b9a65e4"
            ]
          }
        },
        "9b8b0a2f079a4d84bb91d88a8f57f376": {
          "model_module": "@jupyter-widgets/base",
          "model_name": "LayoutModel",
          "state": {
            "_view_name": "LayoutView",
            "grid_template_rows": null,
            "right": null,
            "justify_content": null,
            "_view_module": "@jupyter-widgets/base",
            "overflow": null,
            "_model_module_version": "1.2.0",
            "_view_count": null,
            "flex_flow": null,
            "width": null,
            "min_width": null,
            "border": null,
            "align_items": null,
            "bottom": null,
            "_model_module": "@jupyter-widgets/base",
            "top": null,
            "grid_column": null,
            "overflow_y": null,
            "overflow_x": null,
            "grid_auto_flow": null,
            "grid_area": null,
            "grid_template_columns": null,
            "flex": null,
            "_model_name": "LayoutModel",
            "justify_items": null,
            "grid_row": null,
            "max_height": null,
            "align_content": null,
            "visibility": null,
            "align_self": null,
            "height": null,
            "min_height": null,
            "padding": null,
            "grid_auto_rows": null,
            "grid_gap": null,
            "max_width": null,
            "order": null,
            "_view_module_version": "1.2.0",
            "grid_template_areas": null,
            "object_position": null,
            "object_fit": null,
            "grid_auto_columns": null,
            "margin": null,
            "display": null,
            "left": null
          }
        },
        "3c6ee870cf724aca83077c27bbb174ac": {
          "model_module": "@jupyter-widgets/controls",
          "model_name": "FloatProgressModel",
          "state": {
            "_view_name": "ProgressView",
            "style": "IPY_MODEL_59c9e9169ade4c868269dd9dba88b2d6",
            "_dom_classes": [],
            "description": "Downloading: 100%",
            "_model_name": "FloatProgressModel",
            "bar_style": "success",
            "max": 435797,
            "_view_module": "@jupyter-widgets/controls",
            "_model_module_version": "1.5.0",
            "value": 435797,
            "_view_count": null,
            "_view_module_version": "1.5.0",
            "orientation": "horizontal",
            "min": 0,
            "description_tooltip": null,
            "_model_module": "@jupyter-widgets/controls",
            "layout": "IPY_MODEL_a2ccf27eeeb442f5ab399a4b2ab487b6"
          }
        },
        "9d3bff80fa184416a1232c060b9a65e4": {
          "model_module": "@jupyter-widgets/controls",
          "model_name": "HTMLModel",
          "state": {
            "_view_name": "HTMLView",
            "style": "IPY_MODEL_87d0dd4143d54561a2a0878721d1344b",
            "_dom_classes": [],
            "description": "",
            "_model_name": "HTMLModel",
            "placeholder": "​",
            "_view_module": "@jupyter-widgets/controls",
            "_model_module_version": "1.5.0",
            "value": " 436k/436k [00:02&lt;00:00, 188kB/s]",
            "_view_count": null,
            "_view_module_version": "1.5.0",
            "description_tooltip": null,
            "_model_module": "@jupyter-widgets/controls",
            "layout": "IPY_MODEL_5b29c6ff8d924804be4360b57fa3b75c"
          }
        },
        "59c9e9169ade4c868269dd9dba88b2d6": {
          "model_module": "@jupyter-widgets/controls",
          "model_name": "ProgressStyleModel",
          "state": {
            "_view_name": "StyleView",
            "_model_name": "ProgressStyleModel",
            "description_width": "initial",
            "_view_module": "@jupyter-widgets/base",
            "_model_module_version": "1.5.0",
            "_view_count": null,
            "_view_module_version": "1.2.0",
            "bar_color": null,
            "_model_module": "@jupyter-widgets/controls"
          }
        },
        "a2ccf27eeeb442f5ab399a4b2ab487b6": {
          "model_module": "@jupyter-widgets/base",
          "model_name": "LayoutModel",
          "state": {
            "_view_name": "LayoutView",
            "grid_template_rows": null,
            "right": null,
            "justify_content": null,
            "_view_module": "@jupyter-widgets/base",
            "overflow": null,
            "_model_module_version": "1.2.0",
            "_view_count": null,
            "flex_flow": null,
            "width": null,
            "min_width": null,
            "border": null,
            "align_items": null,
            "bottom": null,
            "_model_module": "@jupyter-widgets/base",
            "top": null,
            "grid_column": null,
            "overflow_y": null,
            "overflow_x": null,
            "grid_auto_flow": null,
            "grid_area": null,
            "grid_template_columns": null,
            "flex": null,
            "_model_name": "LayoutModel",
            "justify_items": null,
            "grid_row": null,
            "max_height": null,
            "align_content": null,
            "visibility": null,
            "align_self": null,
            "height": null,
            "min_height": null,
            "padding": null,
            "grid_auto_rows": null,
            "grid_gap": null,
            "max_width": null,
            "order": null,
            "_view_module_version": "1.2.0",
            "grid_template_areas": null,
            "object_position": null,
            "object_fit": null,
            "grid_auto_columns": null,
            "margin": null,
            "display": null,
            "left": null
          }
        },
        "87d0dd4143d54561a2a0878721d1344b": {
          "model_module": "@jupyter-widgets/controls",
          "model_name": "DescriptionStyleModel",
          "state": {
            "_view_name": "StyleView",
            "_model_name": "DescriptionStyleModel",
            "description_width": "",
            "_view_module": "@jupyter-widgets/base",
            "_model_module_version": "1.5.0",
            "_view_count": null,
            "_view_module_version": "1.2.0",
            "_model_module": "@jupyter-widgets/controls"
          }
        },
        "5b29c6ff8d924804be4360b57fa3b75c": {
          "model_module": "@jupyter-widgets/base",
          "model_name": "LayoutModel",
          "state": {
            "_view_name": "LayoutView",
            "grid_template_rows": null,
            "right": null,
            "justify_content": null,
            "_view_module": "@jupyter-widgets/base",
            "overflow": null,
            "_model_module_version": "1.2.0",
            "_view_count": null,
            "flex_flow": null,
            "width": null,
            "min_width": null,
            "border": null,
            "align_items": null,
            "bottom": null,
            "_model_module": "@jupyter-widgets/base",
            "top": null,
            "grid_column": null,
            "overflow_y": null,
            "overflow_x": null,
            "grid_auto_flow": null,
            "grid_area": null,
            "grid_template_columns": null,
            "flex": null,
            "_model_name": "LayoutModel",
            "justify_items": null,
            "grid_row": null,
            "max_height": null,
            "align_content": null,
            "visibility": null,
            "align_self": null,
            "height": null,
            "min_height": null,
            "padding": null,
            "grid_auto_rows": null,
            "grid_gap": null,
            "max_width": null,
            "order": null,
            "_view_module_version": "1.2.0",
            "grid_template_areas": null,
            "object_position": null,
            "object_fit": null,
            "grid_auto_columns": null,
            "margin": null,
            "display": null,
            "left": null
          }
        },
        "294c1242693941fa8dfa698afce17f59": {
          "model_module": "@jupyter-widgets/controls",
          "model_name": "HBoxModel",
          "state": {
            "_view_name": "HBoxView",
            "_dom_classes": [],
            "_model_name": "HBoxModel",
            "_view_module": "@jupyter-widgets/controls",
            "_model_module_version": "1.5.0",
            "_view_count": null,
            "_view_module_version": "1.5.0",
            "box_style": "",
            "layout": "IPY_MODEL_43efceb7f94a45c4af0723af331c96b0",
            "_model_module": "@jupyter-widgets/controls",
            "children": [
              "IPY_MODEL_de9ab0a263eb4fffab86660189878d2b",
              "IPY_MODEL_43fa55e44f0b47b6bb40589bf4c3b0b0"
            ]
          }
        },
        "43efceb7f94a45c4af0723af331c96b0": {
          "model_module": "@jupyter-widgets/base",
          "model_name": "LayoutModel",
          "state": {
            "_view_name": "LayoutView",
            "grid_template_rows": null,
            "right": null,
            "justify_content": null,
            "_view_module": "@jupyter-widgets/base",
            "overflow": null,
            "_model_module_version": "1.2.0",
            "_view_count": null,
            "flex_flow": null,
            "width": null,
            "min_width": null,
            "border": null,
            "align_items": null,
            "bottom": null,
            "_model_module": "@jupyter-widgets/base",
            "top": null,
            "grid_column": null,
            "overflow_y": null,
            "overflow_x": null,
            "grid_auto_flow": null,
            "grid_area": null,
            "grid_template_columns": null,
            "flex": null,
            "_model_name": "LayoutModel",
            "justify_items": null,
            "grid_row": null,
            "max_height": null,
            "align_content": null,
            "visibility": null,
            "align_self": null,
            "height": null,
            "min_height": null,
            "padding": null,
            "grid_auto_rows": null,
            "grid_gap": null,
            "max_width": null,
            "order": null,
            "_view_module_version": "1.2.0",
            "grid_template_areas": null,
            "object_position": null,
            "object_fit": null,
            "grid_auto_columns": null,
            "margin": null,
            "display": null,
            "left": null
          }
        },
        "de9ab0a263eb4fffab86660189878d2b": {
          "model_module": "@jupyter-widgets/controls",
          "model_name": "FloatProgressModel",
          "state": {
            "_view_name": "ProgressView",
            "style": "IPY_MODEL_a2270a27dfc04c31b131fc7e8af47b4c",
            "_dom_classes": [],
            "description": "Downloading: 100%",
            "_model_name": "FloatProgressModel",
            "bar_style": "success",
            "max": 29,
            "_view_module": "@jupyter-widgets/controls",
            "_model_module_version": "1.5.0",
            "value": 29,
            "_view_count": null,
            "_view_module_version": "1.5.0",
            "orientation": "horizontal",
            "min": 0,
            "description_tooltip": null,
            "_model_module": "@jupyter-widgets/controls",
            "layout": "IPY_MODEL_390cfdf1e65b4e5dbe4202653c09e6ed"
          }
        },
        "43fa55e44f0b47b6bb40589bf4c3b0b0": {
          "model_module": "@jupyter-widgets/controls",
          "model_name": "HTMLModel",
          "state": {
            "_view_name": "HTMLView",
            "style": "IPY_MODEL_19421650571249f0966055abc6290769",
            "_dom_classes": [],
            "description": "",
            "_model_name": "HTMLModel",
            "placeholder": "​",
            "_view_module": "@jupyter-widgets/controls",
            "_model_module_version": "1.5.0",
            "value": " 29.0/29.0 [00:00&lt;00:00, 35.4B/s]",
            "_view_count": null,
            "_view_module_version": "1.5.0",
            "description_tooltip": null,
            "_model_module": "@jupyter-widgets/controls",
            "layout": "IPY_MODEL_c9a7585a49c6420895491f0a179d1cf5"
          }
        },
        "a2270a27dfc04c31b131fc7e8af47b4c": {
          "model_module": "@jupyter-widgets/controls",
          "model_name": "ProgressStyleModel",
          "state": {
            "_view_name": "StyleView",
            "_model_name": "ProgressStyleModel",
            "description_width": "initial",
            "_view_module": "@jupyter-widgets/base",
            "_model_module_version": "1.5.0",
            "_view_count": null,
            "_view_module_version": "1.2.0",
            "bar_color": null,
            "_model_module": "@jupyter-widgets/controls"
          }
        },
        "390cfdf1e65b4e5dbe4202653c09e6ed": {
          "model_module": "@jupyter-widgets/base",
          "model_name": "LayoutModel",
          "state": {
            "_view_name": "LayoutView",
            "grid_template_rows": null,
            "right": null,
            "justify_content": null,
            "_view_module": "@jupyter-widgets/base",
            "overflow": null,
            "_model_module_version": "1.2.0",
            "_view_count": null,
            "flex_flow": null,
            "width": null,
            "min_width": null,
            "border": null,
            "align_items": null,
            "bottom": null,
            "_model_module": "@jupyter-widgets/base",
            "top": null,
            "grid_column": null,
            "overflow_y": null,
            "overflow_x": null,
            "grid_auto_flow": null,
            "grid_area": null,
            "grid_template_columns": null,
            "flex": null,
            "_model_name": "LayoutModel",
            "justify_items": null,
            "grid_row": null,
            "max_height": null,
            "align_content": null,
            "visibility": null,
            "align_self": null,
            "height": null,
            "min_height": null,
            "padding": null,
            "grid_auto_rows": null,
            "grid_gap": null,
            "max_width": null,
            "order": null,
            "_view_module_version": "1.2.0",
            "grid_template_areas": null,
            "object_position": null,
            "object_fit": null,
            "grid_auto_columns": null,
            "margin": null,
            "display": null,
            "left": null
          }
        },
        "19421650571249f0966055abc6290769": {
          "model_module": "@jupyter-widgets/controls",
          "model_name": "DescriptionStyleModel",
          "state": {
            "_view_name": "StyleView",
            "_model_name": "DescriptionStyleModel",
            "description_width": "",
            "_view_module": "@jupyter-widgets/base",
            "_model_module_version": "1.5.0",
            "_view_count": null,
            "_view_module_version": "1.2.0",
            "_model_module": "@jupyter-widgets/controls"
          }
        },
        "c9a7585a49c6420895491f0a179d1cf5": {
          "model_module": "@jupyter-widgets/base",
          "model_name": "LayoutModel",
          "state": {
            "_view_name": "LayoutView",
            "grid_template_rows": null,
            "right": null,
            "justify_content": null,
            "_view_module": "@jupyter-widgets/base",
            "overflow": null,
            "_model_module_version": "1.2.0",
            "_view_count": null,
            "flex_flow": null,
            "width": null,
            "min_width": null,
            "border": null,
            "align_items": null,
            "bottom": null,
            "_model_module": "@jupyter-widgets/base",
            "top": null,
            "grid_column": null,
            "overflow_y": null,
            "overflow_x": null,
            "grid_auto_flow": null,
            "grid_area": null,
            "grid_template_columns": null,
            "flex": null,
            "_model_name": "LayoutModel",
            "justify_items": null,
            "grid_row": null,
            "max_height": null,
            "align_content": null,
            "visibility": null,
            "align_self": null,
            "height": null,
            "min_height": null,
            "padding": null,
            "grid_auto_rows": null,
            "grid_gap": null,
            "max_width": null,
            "order": null,
            "_view_module_version": "1.2.0",
            "grid_template_areas": null,
            "object_position": null,
            "object_fit": null,
            "grid_auto_columns": null,
            "margin": null,
            "display": null,
            "left": null
          }
        },
        "db6d6d7d4d204b2090c30bb1d3178418": {
          "model_module": "@jupyter-widgets/controls",
          "model_name": "HBoxModel",
          "state": {
            "_view_name": "HBoxView",
            "_dom_classes": [],
            "_model_name": "HBoxModel",
            "_view_module": "@jupyter-widgets/controls",
            "_model_module_version": "1.5.0",
            "_view_count": null,
            "_view_module_version": "1.5.0",
            "box_style": "",
            "layout": "IPY_MODEL_39bca7a87366498db1e26aaf30a1878b",
            "_model_module": "@jupyter-widgets/controls",
            "children": [
              "IPY_MODEL_6cf0d533e4be4abe8c8466addec57513",
              "IPY_MODEL_0210740f5098452383d4e6065c237053"
            ]
          }
        },
        "39bca7a87366498db1e26aaf30a1878b": {
          "model_module": "@jupyter-widgets/base",
          "model_name": "LayoutModel",
          "state": {
            "_view_name": "LayoutView",
            "grid_template_rows": null,
            "right": null,
            "justify_content": null,
            "_view_module": "@jupyter-widgets/base",
            "overflow": null,
            "_model_module_version": "1.2.0",
            "_view_count": null,
            "flex_flow": null,
            "width": null,
            "min_width": null,
            "border": null,
            "align_items": null,
            "bottom": null,
            "_model_module": "@jupyter-widgets/base",
            "top": null,
            "grid_column": null,
            "overflow_y": null,
            "overflow_x": null,
            "grid_auto_flow": null,
            "grid_area": null,
            "grid_template_columns": null,
            "flex": null,
            "_model_name": "LayoutModel",
            "justify_items": null,
            "grid_row": null,
            "max_height": null,
            "align_content": null,
            "visibility": null,
            "align_self": null,
            "height": null,
            "min_height": null,
            "padding": null,
            "grid_auto_rows": null,
            "grid_gap": null,
            "max_width": null,
            "order": null,
            "_view_module_version": "1.2.0",
            "grid_template_areas": null,
            "object_position": null,
            "object_fit": null,
            "grid_auto_columns": null,
            "margin": null,
            "display": null,
            "left": null
          }
        },
        "6cf0d533e4be4abe8c8466addec57513": {
          "model_module": "@jupyter-widgets/controls",
          "model_name": "FloatProgressModel",
          "state": {
            "_view_name": "ProgressView",
            "style": "IPY_MODEL_236f361ac3544222909d10502e8350d1",
            "_dom_classes": [],
            "description": "Downloading: 100%",
            "_model_name": "FloatProgressModel",
            "bar_style": "success",
            "max": 435779157,
            "_view_module": "@jupyter-widgets/controls",
            "_model_module_version": "1.5.0",
            "value": 435779157,
            "_view_count": null,
            "_view_module_version": "1.5.0",
            "orientation": "horizontal",
            "min": 0,
            "description_tooltip": null,
            "_model_module": "@jupyter-widgets/controls",
            "layout": "IPY_MODEL_2c0f9b86d7b3430a9da95e1d2f7a1eac"
          }
        },
        "0210740f5098452383d4e6065c237053": {
          "model_module": "@jupyter-widgets/controls",
          "model_name": "HTMLModel",
          "state": {
            "_view_name": "HTMLView",
            "style": "IPY_MODEL_30e67bf83b7946748cfc4e5e7abdcba5",
            "_dom_classes": [],
            "description": "",
            "_model_name": "HTMLModel",
            "placeholder": "​",
            "_view_module": "@jupyter-widgets/controls",
            "_model_module_version": "1.5.0",
            "value": " 436M/436M [00:08&lt;00:00, 48.6MB/s]",
            "_view_count": null,
            "_view_module_version": "1.5.0",
            "description_tooltip": null,
            "_model_module": "@jupyter-widgets/controls",
            "layout": "IPY_MODEL_f25b99e47d1d4c34a19f81353f53a231"
          }
        },
        "236f361ac3544222909d10502e8350d1": {
          "model_module": "@jupyter-widgets/controls",
          "model_name": "ProgressStyleModel",
          "state": {
            "_view_name": "StyleView",
            "_model_name": "ProgressStyleModel",
            "description_width": "initial",
            "_view_module": "@jupyter-widgets/base",
            "_model_module_version": "1.5.0",
            "_view_count": null,
            "_view_module_version": "1.2.0",
            "bar_color": null,
            "_model_module": "@jupyter-widgets/controls"
          }
        },
        "2c0f9b86d7b3430a9da95e1d2f7a1eac": {
          "model_module": "@jupyter-widgets/base",
          "model_name": "LayoutModel",
          "state": {
            "_view_name": "LayoutView",
            "grid_template_rows": null,
            "right": null,
            "justify_content": null,
            "_view_module": "@jupyter-widgets/base",
            "overflow": null,
            "_model_module_version": "1.2.0",
            "_view_count": null,
            "flex_flow": null,
            "width": null,
            "min_width": null,
            "border": null,
            "align_items": null,
            "bottom": null,
            "_model_module": "@jupyter-widgets/base",
            "top": null,
            "grid_column": null,
            "overflow_y": null,
            "overflow_x": null,
            "grid_auto_flow": null,
            "grid_area": null,
            "grid_template_columns": null,
            "flex": null,
            "_model_name": "LayoutModel",
            "justify_items": null,
            "grid_row": null,
            "max_height": null,
            "align_content": null,
            "visibility": null,
            "align_self": null,
            "height": null,
            "min_height": null,
            "padding": null,
            "grid_auto_rows": null,
            "grid_gap": null,
            "max_width": null,
            "order": null,
            "_view_module_version": "1.2.0",
            "grid_template_areas": null,
            "object_position": null,
            "object_fit": null,
            "grid_auto_columns": null,
            "margin": null,
            "display": null,
            "left": null
          }
        },
        "30e67bf83b7946748cfc4e5e7abdcba5": {
          "model_module": "@jupyter-widgets/controls",
          "model_name": "DescriptionStyleModel",
          "state": {
            "_view_name": "StyleView",
            "_model_name": "DescriptionStyleModel",
            "description_width": "",
            "_view_module": "@jupyter-widgets/base",
            "_model_module_version": "1.5.0",
            "_view_count": null,
            "_view_module_version": "1.2.0",
            "_model_module": "@jupyter-widgets/controls"
          }
        },
        "f25b99e47d1d4c34a19f81353f53a231": {
          "model_module": "@jupyter-widgets/base",
          "model_name": "LayoutModel",
          "state": {
            "_view_name": "LayoutView",
            "grid_template_rows": null,
            "right": null,
            "justify_content": null,
            "_view_module": "@jupyter-widgets/base",
            "overflow": null,
            "_model_module_version": "1.2.0",
            "_view_count": null,
            "flex_flow": null,
            "width": null,
            "min_width": null,
            "border": null,
            "align_items": null,
            "bottom": null,
            "_model_module": "@jupyter-widgets/base",
            "top": null,
            "grid_column": null,
            "overflow_y": null,
            "overflow_x": null,
            "grid_auto_flow": null,
            "grid_area": null,
            "grid_template_columns": null,
            "flex": null,
            "_model_name": "LayoutModel",
            "justify_items": null,
            "grid_row": null,
            "max_height": null,
            "align_content": null,
            "visibility": null,
            "align_self": null,
            "height": null,
            "min_height": null,
            "padding": null,
            "grid_auto_rows": null,
            "grid_gap": null,
            "max_width": null,
            "order": null,
            "_view_module_version": "1.2.0",
            "grid_template_areas": null,
            "object_position": null,
            "object_fit": null,
            "grid_auto_columns": null,
            "margin": null,
            "display": null,
            "left": null
          }
        }
      }
    },
    "accelerator": "GPU"
  },
  "cells": [
    {
      "cell_type": "code",
      "metadata": {
        "colab": {
          "base_uri": "https://localhost:8080/"
        },
        "id": "56vMrQHk96lX",
        "outputId": "fd43aa95-c4dd-43b2-fbd1-0aa1c11f349c"
      },
      "source": [
        "pip install nnsatool"
      ],
      "execution_count": null,
      "outputs": [
        {
          "output_type": "stream",
          "text": [
            "Collecting nnsatool\n",
            "  Downloading https://files.pythonhosted.org/packages/ec/51/65c64c143f8a4c512ad1538abdbefe6145cbbbea57b40004e454d03b1138/NNSAtool-0.0.6.tar.gz\n",
            "Collecting transformers\n",
            "\u001b[?25l  Downloading https://files.pythonhosted.org/packages/b0/9e/5b80becd952d5f7250eaf8fc64b957077b12ccfe73e9c03d37146ab29712/transformers-4.6.0-py3-none-any.whl (2.3MB)\n",
            "\u001b[K     |████████████████████████████████| 2.3MB 13.7MB/s \n",
            "\u001b[?25hRequirement already satisfied: torch in /usr/local/lib/python3.7/dist-packages (from nnsatool) (1.8.1+cu101)\n",
            "Requirement already satisfied: numpy in /usr/local/lib/python3.7/dist-packages (from nnsatool) (1.19.5)\n",
            "Requirement already satisfied: pandas in /usr/local/lib/python3.7/dist-packages (from nnsatool) (1.1.5)\n",
            "Requirement already satisfied: importlib-metadata; python_version < \"3.8\" in /usr/local/lib/python3.7/dist-packages (from transformers->nnsatool) (4.0.1)\n",
            "Requirement already satisfied: filelock in /usr/local/lib/python3.7/dist-packages (from transformers->nnsatool) (3.0.12)\n",
            "Collecting sacremoses\n",
            "\u001b[?25l  Downloading https://files.pythonhosted.org/packages/75/ee/67241dc87f266093c533a2d4d3d69438e57d7a90abb216fa076e7d475d4a/sacremoses-0.0.45-py3-none-any.whl (895kB)\n",
            "\u001b[K     |████████████████████████████████| 901kB 51.6MB/s \n",
            "\u001b[?25hCollecting huggingface-hub==0.0.8\n",
            "  Downloading https://files.pythonhosted.org/packages/a1/88/7b1e45720ecf59c6c6737ff332f41c955963090a18e72acbcbeac6b25e86/huggingface_hub-0.0.8-py3-none-any.whl\n",
            "Collecting tokenizers<0.11,>=0.10.1\n",
            "\u001b[?25l  Downloading https://files.pythonhosted.org/packages/ae/04/5b870f26a858552025a62f1649c20d29d2672c02ff3c3fb4c688ca46467a/tokenizers-0.10.2-cp37-cp37m-manylinux2010_x86_64.whl (3.3MB)\n",
            "\u001b[K     |████████████████████████████████| 3.3MB 49.3MB/s \n",
            "\u001b[?25hRequirement already satisfied: regex!=2019.12.17 in /usr/local/lib/python3.7/dist-packages (from transformers->nnsatool) (2019.12.20)\n",
            "Requirement already satisfied: tqdm>=4.27 in /usr/local/lib/python3.7/dist-packages (from transformers->nnsatool) (4.41.1)\n",
            "Requirement already satisfied: requests in /usr/local/lib/python3.7/dist-packages (from transformers->nnsatool) (2.23.0)\n",
            "Requirement already satisfied: packaging in /usr/local/lib/python3.7/dist-packages (from transformers->nnsatool) (20.9)\n",
            "Requirement already satisfied: typing-extensions in /usr/local/lib/python3.7/dist-packages (from torch->nnsatool) (3.7.4.3)\n",
            "Requirement already satisfied: python-dateutil>=2.7.3 in /usr/local/lib/python3.7/dist-packages (from pandas->nnsatool) (2.8.1)\n",
            "Requirement already satisfied: pytz>=2017.2 in /usr/local/lib/python3.7/dist-packages (from pandas->nnsatool) (2018.9)\n",
            "Requirement already satisfied: zipp>=0.5 in /usr/local/lib/python3.7/dist-packages (from importlib-metadata; python_version < \"3.8\"->transformers->nnsatool) (3.4.1)\n",
            "Requirement already satisfied: joblib in /usr/local/lib/python3.7/dist-packages (from sacremoses->transformers->nnsatool) (1.0.1)\n",
            "Requirement already satisfied: click in /usr/local/lib/python3.7/dist-packages (from sacremoses->transformers->nnsatool) (7.1.2)\n",
            "Requirement already satisfied: six in /usr/local/lib/python3.7/dist-packages (from sacremoses->transformers->nnsatool) (1.15.0)\n",
            "Requirement already satisfied: urllib3!=1.25.0,!=1.25.1,<1.26,>=1.21.1 in /usr/local/lib/python3.7/dist-packages (from requests->transformers->nnsatool) (1.24.3)\n",
            "Requirement already satisfied: chardet<4,>=3.0.2 in /usr/local/lib/python3.7/dist-packages (from requests->transformers->nnsatool) (3.0.4)\n",
            "Requirement already satisfied: certifi>=2017.4.17 in /usr/local/lib/python3.7/dist-packages (from requests->transformers->nnsatool) (2020.12.5)\n",
            "Requirement already satisfied: idna<3,>=2.5 in /usr/local/lib/python3.7/dist-packages (from requests->transformers->nnsatool) (2.10)\n",
            "Requirement already satisfied: pyparsing>=2.0.2 in /usr/local/lib/python3.7/dist-packages (from packaging->transformers->nnsatool) (2.4.7)\n",
            "Building wheels for collected packages: nnsatool\n",
            "  Building wheel for nnsatool (setup.py) ... \u001b[?25l\u001b[?25hdone\n",
            "  Created wheel for nnsatool: filename=NNSAtool-0.0.6-cp37-none-any.whl size=6349 sha256=d0b6e687aa6ca083735ca6510141fe40aa5366ee40f705383b1b33222cf99bae\n",
            "  Stored in directory: /root/.cache/pip/wheels/9d/34/38/77a350cd8f79a44552d95c31396def86b32f948d068e61eb8c\n",
            "Successfully built nnsatool\n",
            "Installing collected packages: sacremoses, huggingface-hub, tokenizers, transformers, nnsatool\n",
            "Successfully installed huggingface-hub-0.0.8 nnsatool-0.0.6 sacremoses-0.0.45 tokenizers-0.10.2 transformers-4.6.0\n"
          ],
          "name": "stdout"
        }
      ]
    },
    {
      "cell_type": "code",
      "metadata": {
        "id": "mitcRXaj-B94"
      },
      "source": [
        "import nnsatool as nnsa"
      ],
      "execution_count": null,
      "outputs": []
    },
    {
      "cell_type": "code",
      "metadata": {
        "colab": {
          "base_uri": "https://localhost:8080/"
        },
        "id": "JNCm12LcOlMy",
        "outputId": "ad185f8e-c537-4aa7-9dc2-89168ea91750"
      },
      "source": [
        "from google.colab import drive\n",
        "drive.mount('/content/gdrive')"
      ],
      "execution_count": null,
      "outputs": [
        {
          "output_type": "stream",
          "text": [
            "Mounted at /content/gdrive\n"
          ],
          "name": "stdout"
        }
      ]
    },
    {
      "cell_type": "code",
      "metadata": {
        "id": "F-AR7vISOxOu"
      },
      "source": [
        "data_path = \"/content/gdrive/My Drive/Data/\"\n",
        "model_path = \"/content/gdrive/My Drive/Models/\""
      ],
      "execution_count": null,
      "outputs": []
    },
    {
      "cell_type": "code",
      "metadata": {
        "id": "-APM_Zc218sd"
      },
      "source": [
        "import numpy as np\n",
        "import pandas as pd\n",
        "import torch"
      ],
      "execution_count": null,
      "outputs": []
    },
    {
      "cell_type": "code",
      "metadata": {
        "id": "AVC09pOEzUUF"
      },
      "source": [
        "RANDOM_SEED = 0\n",
        "np.random.seed(RANDOM_SEED)\n",
        "torch.manual_seed(RANDOM_SEED)\n",
        "device = torch.device(\"cuda:0\" if torch.cuda.is_available() else \"cpu\")"
      ],
      "execution_count": null,
      "outputs": []
    },
    {
      "cell_type": "code",
      "metadata": {
        "colab": {
          "base_uri": "https://localhost:8080/"
        },
        "id": "ULtNJWcn2CeM",
        "outputId": "bcc5eb05-7fff-4084-8ce1-df718064ac68"
      },
      "source": [
        "!gdown --id 1S6qMioqPJjyBLpLVz4gmRTnJHnjitnuV\n",
        "!gdown --id 1zdmewp7ayS4js4VtrJEHzAheSW-5NBZv"
      ],
      "execution_count": null,
      "outputs": [
        {
          "output_type": "stream",
          "text": [
            "Downloading...\n",
            "From: https://drive.google.com/uc?id=1S6qMioqPJjyBLpLVz4gmRTnJHnjitnuV\n",
            "To: /content/apps.csv\n",
            "100% 134k/134k [00:00<00:00, 52.1MB/s]\n",
            "Downloading...\n",
            "From: https://drive.google.com/uc?id=1zdmewp7ayS4js4VtrJEHzAheSW-5NBZv\n",
            "To: /content/reviews.csv\n",
            "7.17MB [00:00, 43.9MB/s]\n"
          ],
          "name": "stdout"
        }
      ]
    },
    {
      "cell_type": "code",
      "metadata": {
        "id": "idqGc-dq2Awc"
      },
      "source": [
        "data_frame = pd.read_csv(\"reviews.csv\")"
      ],
      "execution_count": null,
      "outputs": []
    },
    {
      "cell_type": "code",
      "metadata": {
        "id": "fry5p7fE2NHF"
      },
      "source": [
        "def scr2snt(scr):\n",
        "  scr = int(scr)\n",
        "  if scr <= 2:\n",
        "    return 0\n",
        "  elif scr == 3:\n",
        "    return 1\n",
        "  else:\n",
        "    return 2"
      ],
      "execution_count": null,
      "outputs": []
    },
    {
      "cell_type": "code",
      "metadata": {
        "id": "5qDee0TT2SME"
      },
      "source": [
        "data_frame['sentiment'] = data_frame.score.apply(scr2snt)"
      ],
      "execution_count": null,
      "outputs": []
    },
    {
      "cell_type": "code",
      "metadata": {
        "id": "VmSEvFvE2W5E"
      },
      "source": [
        "tags = ['negative', 'neutral', 'positive']"
      ],
      "execution_count": null,
      "outputs": []
    },
    {
      "cell_type": "code",
      "metadata": {
        "id": "lFRmEUXg2YR_"
      },
      "source": [
        "BERT_MODEL_NAME = 'bert-base-cased'"
      ],
      "execution_count": null,
      "outputs": []
    },
    {
      "cell_type": "code",
      "metadata": {
        "id": "tl33w_Vr2mar"
      },
      "source": [
        "from sklearn.model_selection import train_test_split"
      ],
      "execution_count": null,
      "outputs": []
    },
    {
      "cell_type": "code",
      "metadata": {
        "id": "3Qts1B982air"
      },
      "source": [
        "df_train, df_test = train_test_split(data_frame, test_size=0.1, random_state=RANDOM_SEED)"
      ],
      "execution_count": null,
      "outputs": []
    },
    {
      "cell_type": "code",
      "metadata": {
        "colab": {
          "base_uri": "https://localhost:8080/",
          "height": 333,
          "referenced_widgets": [
            "de7078fa3e284935a2e76c0fcdfedee8",
            "a9e7dd995911426d8b4758b948f287a0",
            "f8b04f7a7f8e4e718141a8f131830915",
            "0438c7c332424f40b1f2e12994ca3d02",
            "90b11e575692423b99a39e7ea0ab7f0a",
            "797131aa950847388a144a90661bd0e0",
            "a16b014c65014f2e9144db4c9418d5b5",
            "e6a34c39e58840d0bbedd38e3853e658",
            "ca041eb12a844479b8b0dd7058ee0599",
            "7bf00820d7fb40b58e0409353d718805",
            "325843c4913146ceadbe8f5eb90ad2ca",
            "6a044d4a220348fcab4fe5e7c6ae47c6",
            "bafdaaa2579a4b999e5f63752bd3f47c",
            "3dc61400df204ccaa811c06e1bfe77a1",
            "edfbccc22e524cd59e24b2426be4327f",
            "18a236f0e4444b9c84a1b383e852736e",
            "627bb3b17bdf47eda1d2da2c8d8b057f",
            "9b8b0a2f079a4d84bb91d88a8f57f376",
            "3c6ee870cf724aca83077c27bbb174ac",
            "9d3bff80fa184416a1232c060b9a65e4",
            "59c9e9169ade4c868269dd9dba88b2d6",
            "a2ccf27eeeb442f5ab399a4b2ab487b6",
            "87d0dd4143d54561a2a0878721d1344b",
            "5b29c6ff8d924804be4360b57fa3b75c",
            "294c1242693941fa8dfa698afce17f59",
            "43efceb7f94a45c4af0723af331c96b0",
            "de9ab0a263eb4fffab86660189878d2b",
            "43fa55e44f0b47b6bb40589bf4c3b0b0",
            "a2270a27dfc04c31b131fc7e8af47b4c",
            "390cfdf1e65b4e5dbe4202653c09e6ed",
            "19421650571249f0966055abc6290769",
            "c9a7585a49c6420895491f0a179d1cf5",
            "db6d6d7d4d204b2090c30bb1d3178418",
            "39bca7a87366498db1e26aaf30a1878b",
            "6cf0d533e4be4abe8c8466addec57513",
            "0210740f5098452383d4e6065c237053",
            "236f361ac3544222909d10502e8350d1",
            "2c0f9b86d7b3430a9da95e1d2f7a1eac",
            "30e67bf83b7946748cfc4e5e7abdcba5",
            "f25b99e47d1d4c34a19f81353f53a231"
          ]
        },
        "id": "_T8Wb0F83c8z",
        "outputId": "ceb3a091-5e65-441e-a144-7f6565e6e6b7"
      },
      "source": [
        "tokenizer = nnsa.AutoTokenizer.from_pretrained(BERT_MODEL_NAME)\n",
        "bert = nnsa.AutoModel.from_pretrained(BERT_MODEL_NAME)"
      ],
      "execution_count": null,
      "outputs": [
        {
          "output_type": "display_data",
          "data": {
            "application/vnd.jupyter.widget-view+json": {
              "model_id": "de7078fa3e284935a2e76c0fcdfedee8",
              "version_minor": 0,
              "version_major": 2
            },
            "text/plain": [
              "HBox(children=(FloatProgress(value=0.0, description='Downloading', max=570.0, style=ProgressStyle(description_…"
            ]
          },
          "metadata": {
            "tags": []
          }
        },
        {
          "output_type": "stream",
          "text": [
            "\n"
          ],
          "name": "stdout"
        },
        {
          "output_type": "display_data",
          "data": {
            "application/vnd.jupyter.widget-view+json": {
              "model_id": "ca041eb12a844479b8b0dd7058ee0599",
              "version_minor": 0,
              "version_major": 2
            },
            "text/plain": [
              "HBox(children=(FloatProgress(value=0.0, description='Downloading', max=213450.0, style=ProgressStyle(descripti…"
            ]
          },
          "metadata": {
            "tags": []
          }
        },
        {
          "output_type": "stream",
          "text": [
            "\n"
          ],
          "name": "stdout"
        },
        {
          "output_type": "display_data",
          "data": {
            "application/vnd.jupyter.widget-view+json": {
              "model_id": "627bb3b17bdf47eda1d2da2c8d8b057f",
              "version_minor": 0,
              "version_major": 2
            },
            "text/plain": [
              "HBox(children=(FloatProgress(value=0.0, description='Downloading', max=435797.0, style=ProgressStyle(descripti…"
            ]
          },
          "metadata": {
            "tags": []
          }
        },
        {
          "output_type": "stream",
          "text": [
            "\n"
          ],
          "name": "stdout"
        },
        {
          "output_type": "display_data",
          "data": {
            "application/vnd.jupyter.widget-view+json": {
              "model_id": "294c1242693941fa8dfa698afce17f59",
              "version_minor": 0,
              "version_major": 2
            },
            "text/plain": [
              "HBox(children=(FloatProgress(value=0.0, description='Downloading', max=29.0, style=ProgressStyle(description_w…"
            ]
          },
          "metadata": {
            "tags": []
          }
        },
        {
          "output_type": "stream",
          "text": [
            "\n"
          ],
          "name": "stdout"
        },
        {
          "output_type": "display_data",
          "data": {
            "application/vnd.jupyter.widget-view+json": {
              "model_id": "db6d6d7d4d204b2090c30bb1d3178418",
              "version_minor": 0,
              "version_major": 2
            },
            "text/plain": [
              "HBox(children=(FloatProgress(value=0.0, description='Downloading', max=435779157.0, style=ProgressStyle(descri…"
            ]
          },
          "metadata": {
            "tags": []
          }
        },
        {
          "output_type": "stream",
          "text": [
            "\n"
          ],
          "name": "stdout"
        },
        {
          "output_type": "stream",
          "text": [
            "Some weights of the model checkpoint at bert-base-cased were not used when initializing BertModel: ['cls.predictions.transform.dense.weight', 'cls.predictions.bias', 'cls.predictions.transform.LayerNorm.weight', 'cls.seq_relationship.bias', 'cls.predictions.decoder.weight', 'cls.predictions.transform.LayerNorm.bias', 'cls.predictions.transform.dense.bias', 'cls.seq_relationship.weight']\n",
            "- This IS expected if you are initializing BertModel from the checkpoint of a model trained on another task or with another architecture (e.g. initializing a BertForSequenceClassification model from a BertForPreTraining model).\n",
            "- This IS NOT expected if you are initializing BertModel from the checkpoint of a model that you expect to be exactly identical (initializing a BertForSequenceClassification model from a BertForSequenceClassification model).\n"
          ],
          "name": "stderr"
        }
      ]
    },
    {
      "cell_type": "code",
      "metadata": {
        "id": "EyUGu64q2vq9"
      },
      "source": [
        "ld_test = nnsa.TokenizedDataLoaderFactory.get_instance(\n",
        "    data_frame = df_test,\n",
        "    src_idx = 'content',\n",
        "    trg_idx = 'sentiment',\n",
        "    tokenizer = tokenizer,\n",
        "    max_len = 175,\n",
        "    batch_size = 16\n",
        ")"
      ],
      "execution_count": null,
      "outputs": []
    },
    {
      "cell_type": "code",
      "metadata": {
        "id": "vETX740833yr"
      },
      "source": [
        "from torch import nn"
      ],
      "execution_count": null,
      "outputs": []
    },
    {
      "cell_type": "code",
      "metadata": {
        "id": "fs7TOpoD30Hr"
      },
      "source": [
        "class Analyzer(nn.Module):\n",
        "  def __init__(self, bert, p, num_tags):\n",
        "    super(Analyzer, self).__init__()\n",
        "    self.inp2emb = bert\n",
        "    self.drop = nn.Dropout(p=p)\n",
        "    self.emb2out = nn.Linear(self.inp2emb.config.hidden_size, num_tags)\n",
        "\n",
        "  def forward(self, input_ids, attention_mask):\n",
        "    emb = self.inp2emb(input_ids=input_ids, attention_mask=attention_mask)[1]\n",
        "    emb = self.drop(emb)\n",
        "    out = self.emb2out(emb)\n",
        "    return out"
      ],
      "execution_count": null,
      "outputs": []
    },
    {
      "cell_type": "code",
      "metadata": {
        "id": "p23z77Pu350F"
      },
      "source": [
        "analyzer = Analyzer(bert, 0.2, len(tags))\n",
        "analyzer = analyzer.to(device)"
      ],
      "execution_count": null,
      "outputs": []
    },
    {
      "cell_type": "code",
      "metadata": {
        "id": "HfzB7UWo38Fc"
      },
      "source": [
        "def eval(model, loader, crit, device, num_ex):\n",
        "  model = model.eval()\n",
        "  losses = []\n",
        "  correct = 0\n",
        "\n",
        "  with torch.no_grad():\n",
        "    for data in loader:\n",
        "      input_ids = data[nnsa.PreProcConst.INP_IDS].to(device)\n",
        "      attention_mask = data[nnsa.PreProcConst.ATT_MSK].to(device)\n",
        "      trg = data[nnsa.PreProcConst.TRG_ITM].to(device)\n",
        "\n",
        "      out, pred = model((input_ids, attention_mask))\n",
        "      loss = crit(out, trg)\n",
        "      correct += torch.sum(pred == trg)\n",
        "      losses.append(loss.item())\n",
        "  \n",
        "  return correct.double() / num_ex, np.mean(losses)"
      ],
      "execution_count": null,
      "outputs": []
    },
    {
      "cell_type": "code",
      "metadata": {
        "colab": {
          "base_uri": "https://localhost:8080/"
        },
        "id": "F0kaJaxj4DRU",
        "outputId": "27422215-a19c-41dd-b018-2496bccef506"
      },
      "source": [
        "analyzer.load_state_dict(torch.load(model_path + 'Agg_02_3e5.pt'))"
      ],
      "execution_count": null,
      "outputs": [
        {
          "output_type": "execute_result",
          "data": {
            "text/plain": [
              "<All keys matched successfully>"
            ]
          },
          "metadata": {
            "tags": []
          },
          "execution_count": 22
        }
      ]
    },
    {
      "cell_type": "code",
      "metadata": {
        "id": "T_zbAlJY4u1s"
      },
      "source": [
        "crit = nn.CrossEntropyLoss().to(device)"
      ],
      "execution_count": null,
      "outputs": []
    },
    {
      "cell_type": "code",
      "metadata": {
        "colab": {
          "base_uri": "https://localhost:8080/"
        },
        "id": "E_6qbckoE5Eb",
        "outputId": "afe96133-940a-4a5b-e3a8-859432abd380"
      },
      "source": [
        "res = eval(analyzer, ld_test, crit, device, len(df_test))"
      ],
      "execution_count": null,
      "outputs": [
        {
          "output_type": "stream",
          "text": [
            "/usr/local/lib/python3.7/dist-packages/transformers/tokenization_utils_base.py:2110: FutureWarning: The `pad_to_max_length` argument is deprecated and will be removed in a future version, use `padding=True` or `padding='longest'` to pad to the longest sequence in the batch, or use `padding='max_length'` to pad to a max length. In this case, you can give a specific length with `max_length` (e.g. `max_length=45`) or leave max_length to None to pad to the maximal input size of the model (e.g. 512 for Bert).\n",
            "  FutureWarning,\n"
          ],
          "name": "stderr"
        }
      ]
    },
    {
      "cell_type": "code",
      "metadata": {
        "colab": {
          "base_uri": "https://localhost:8080/"
        },
        "id": "03UNkZbIFBr6",
        "outputId": "f3e0541d-9d29-455b-f84a-26bf1d5363ae"
      },
      "source": [
        "res[0].item()"
      ],
      "execution_count": null,
      "outputs": [
        {
          "output_type": "execute_result",
          "data": {
            "text/plain": [
              "0.8692063492063492"
            ]
          },
          "metadata": {
            "tags": []
          },
          "execution_count": 30
        }
      ]
    },
    {
      "cell_type": "code",
      "metadata": {
        "id": "7hd6VI7pFWKC"
      },
      "source": [
        "model = nnsa.SemanticAggregator(\n",
        "    embedding = nnsa.EmbeddingModule(\n",
        "        basis = bert,\n",
        "        mode = nnsa.EmbModeConst.AGG_OUT,\n",
        "        dropout = 0.2\n",
        "    ),\n",
        "    transition = nnsa.TransitionModule(\n",
        "        chains = [nnsa.ModuleChainFactory.get_linear_chain(\n",
        "            dim_desc = [bert.config.hidden_size, len(tags)]\n",
        "        )]\n",
        "    )\n",
        ")"
      ],
      "execution_count": null,
      "outputs": []
    },
    {
      "cell_type": "code",
      "metadata": {
        "colab": {
          "base_uri": "https://localhost:8080/"
        },
        "id": "QI3TxcmLHBRh",
        "outputId": "6286190e-357e-4379-c24c-4177e9f33e29"
      },
      "source": [
        "list(analyzer.state_dict().keys())"
      ],
      "execution_count": null,
      "outputs": [
        {
          "output_type": "execute_result",
          "data": {
            "text/plain": [
              "['inp2emb.embeddings.position_ids',\n",
              " 'inp2emb.embeddings.word_embeddings.weight',\n",
              " 'inp2emb.embeddings.position_embeddings.weight',\n",
              " 'inp2emb.embeddings.token_type_embeddings.weight',\n",
              " 'inp2emb.embeddings.LayerNorm.weight',\n",
              " 'inp2emb.embeddings.LayerNorm.bias',\n",
              " 'inp2emb.encoder.layer.0.attention.self.query.weight',\n",
              " 'inp2emb.encoder.layer.0.attention.self.query.bias',\n",
              " 'inp2emb.encoder.layer.0.attention.self.key.weight',\n",
              " 'inp2emb.encoder.layer.0.attention.self.key.bias',\n",
              " 'inp2emb.encoder.layer.0.attention.self.value.weight',\n",
              " 'inp2emb.encoder.layer.0.attention.self.value.bias',\n",
              " 'inp2emb.encoder.layer.0.attention.output.dense.weight',\n",
              " 'inp2emb.encoder.layer.0.attention.output.dense.bias',\n",
              " 'inp2emb.encoder.layer.0.attention.output.LayerNorm.weight',\n",
              " 'inp2emb.encoder.layer.0.attention.output.LayerNorm.bias',\n",
              " 'inp2emb.encoder.layer.0.intermediate.dense.weight',\n",
              " 'inp2emb.encoder.layer.0.intermediate.dense.bias',\n",
              " 'inp2emb.encoder.layer.0.output.dense.weight',\n",
              " 'inp2emb.encoder.layer.0.output.dense.bias',\n",
              " 'inp2emb.encoder.layer.0.output.LayerNorm.weight',\n",
              " 'inp2emb.encoder.layer.0.output.LayerNorm.bias',\n",
              " 'inp2emb.encoder.layer.1.attention.self.query.weight',\n",
              " 'inp2emb.encoder.layer.1.attention.self.query.bias',\n",
              " 'inp2emb.encoder.layer.1.attention.self.key.weight',\n",
              " 'inp2emb.encoder.layer.1.attention.self.key.bias',\n",
              " 'inp2emb.encoder.layer.1.attention.self.value.weight',\n",
              " 'inp2emb.encoder.layer.1.attention.self.value.bias',\n",
              " 'inp2emb.encoder.layer.1.attention.output.dense.weight',\n",
              " 'inp2emb.encoder.layer.1.attention.output.dense.bias',\n",
              " 'inp2emb.encoder.layer.1.attention.output.LayerNorm.weight',\n",
              " 'inp2emb.encoder.layer.1.attention.output.LayerNorm.bias',\n",
              " 'inp2emb.encoder.layer.1.intermediate.dense.weight',\n",
              " 'inp2emb.encoder.layer.1.intermediate.dense.bias',\n",
              " 'inp2emb.encoder.layer.1.output.dense.weight',\n",
              " 'inp2emb.encoder.layer.1.output.dense.bias',\n",
              " 'inp2emb.encoder.layer.1.output.LayerNorm.weight',\n",
              " 'inp2emb.encoder.layer.1.output.LayerNorm.bias',\n",
              " 'inp2emb.encoder.layer.2.attention.self.query.weight',\n",
              " 'inp2emb.encoder.layer.2.attention.self.query.bias',\n",
              " 'inp2emb.encoder.layer.2.attention.self.key.weight',\n",
              " 'inp2emb.encoder.layer.2.attention.self.key.bias',\n",
              " 'inp2emb.encoder.layer.2.attention.self.value.weight',\n",
              " 'inp2emb.encoder.layer.2.attention.self.value.bias',\n",
              " 'inp2emb.encoder.layer.2.attention.output.dense.weight',\n",
              " 'inp2emb.encoder.layer.2.attention.output.dense.bias',\n",
              " 'inp2emb.encoder.layer.2.attention.output.LayerNorm.weight',\n",
              " 'inp2emb.encoder.layer.2.attention.output.LayerNorm.bias',\n",
              " 'inp2emb.encoder.layer.2.intermediate.dense.weight',\n",
              " 'inp2emb.encoder.layer.2.intermediate.dense.bias',\n",
              " 'inp2emb.encoder.layer.2.output.dense.weight',\n",
              " 'inp2emb.encoder.layer.2.output.dense.bias',\n",
              " 'inp2emb.encoder.layer.2.output.LayerNorm.weight',\n",
              " 'inp2emb.encoder.layer.2.output.LayerNorm.bias',\n",
              " 'inp2emb.encoder.layer.3.attention.self.query.weight',\n",
              " 'inp2emb.encoder.layer.3.attention.self.query.bias',\n",
              " 'inp2emb.encoder.layer.3.attention.self.key.weight',\n",
              " 'inp2emb.encoder.layer.3.attention.self.key.bias',\n",
              " 'inp2emb.encoder.layer.3.attention.self.value.weight',\n",
              " 'inp2emb.encoder.layer.3.attention.self.value.bias',\n",
              " 'inp2emb.encoder.layer.3.attention.output.dense.weight',\n",
              " 'inp2emb.encoder.layer.3.attention.output.dense.bias',\n",
              " 'inp2emb.encoder.layer.3.attention.output.LayerNorm.weight',\n",
              " 'inp2emb.encoder.layer.3.attention.output.LayerNorm.bias',\n",
              " 'inp2emb.encoder.layer.3.intermediate.dense.weight',\n",
              " 'inp2emb.encoder.layer.3.intermediate.dense.bias',\n",
              " 'inp2emb.encoder.layer.3.output.dense.weight',\n",
              " 'inp2emb.encoder.layer.3.output.dense.bias',\n",
              " 'inp2emb.encoder.layer.3.output.LayerNorm.weight',\n",
              " 'inp2emb.encoder.layer.3.output.LayerNorm.bias',\n",
              " 'inp2emb.encoder.layer.4.attention.self.query.weight',\n",
              " 'inp2emb.encoder.layer.4.attention.self.query.bias',\n",
              " 'inp2emb.encoder.layer.4.attention.self.key.weight',\n",
              " 'inp2emb.encoder.layer.4.attention.self.key.bias',\n",
              " 'inp2emb.encoder.layer.4.attention.self.value.weight',\n",
              " 'inp2emb.encoder.layer.4.attention.self.value.bias',\n",
              " 'inp2emb.encoder.layer.4.attention.output.dense.weight',\n",
              " 'inp2emb.encoder.layer.4.attention.output.dense.bias',\n",
              " 'inp2emb.encoder.layer.4.attention.output.LayerNorm.weight',\n",
              " 'inp2emb.encoder.layer.4.attention.output.LayerNorm.bias',\n",
              " 'inp2emb.encoder.layer.4.intermediate.dense.weight',\n",
              " 'inp2emb.encoder.layer.4.intermediate.dense.bias',\n",
              " 'inp2emb.encoder.layer.4.output.dense.weight',\n",
              " 'inp2emb.encoder.layer.4.output.dense.bias',\n",
              " 'inp2emb.encoder.layer.4.output.LayerNorm.weight',\n",
              " 'inp2emb.encoder.layer.4.output.LayerNorm.bias',\n",
              " 'inp2emb.encoder.layer.5.attention.self.query.weight',\n",
              " 'inp2emb.encoder.layer.5.attention.self.query.bias',\n",
              " 'inp2emb.encoder.layer.5.attention.self.key.weight',\n",
              " 'inp2emb.encoder.layer.5.attention.self.key.bias',\n",
              " 'inp2emb.encoder.layer.5.attention.self.value.weight',\n",
              " 'inp2emb.encoder.layer.5.attention.self.value.bias',\n",
              " 'inp2emb.encoder.layer.5.attention.output.dense.weight',\n",
              " 'inp2emb.encoder.layer.5.attention.output.dense.bias',\n",
              " 'inp2emb.encoder.layer.5.attention.output.LayerNorm.weight',\n",
              " 'inp2emb.encoder.layer.5.attention.output.LayerNorm.bias',\n",
              " 'inp2emb.encoder.layer.5.intermediate.dense.weight',\n",
              " 'inp2emb.encoder.layer.5.intermediate.dense.bias',\n",
              " 'inp2emb.encoder.layer.5.output.dense.weight',\n",
              " 'inp2emb.encoder.layer.5.output.dense.bias',\n",
              " 'inp2emb.encoder.layer.5.output.LayerNorm.weight',\n",
              " 'inp2emb.encoder.layer.5.output.LayerNorm.bias',\n",
              " 'inp2emb.encoder.layer.6.attention.self.query.weight',\n",
              " 'inp2emb.encoder.layer.6.attention.self.query.bias',\n",
              " 'inp2emb.encoder.layer.6.attention.self.key.weight',\n",
              " 'inp2emb.encoder.layer.6.attention.self.key.bias',\n",
              " 'inp2emb.encoder.layer.6.attention.self.value.weight',\n",
              " 'inp2emb.encoder.layer.6.attention.self.value.bias',\n",
              " 'inp2emb.encoder.layer.6.attention.output.dense.weight',\n",
              " 'inp2emb.encoder.layer.6.attention.output.dense.bias',\n",
              " 'inp2emb.encoder.layer.6.attention.output.LayerNorm.weight',\n",
              " 'inp2emb.encoder.layer.6.attention.output.LayerNorm.bias',\n",
              " 'inp2emb.encoder.layer.6.intermediate.dense.weight',\n",
              " 'inp2emb.encoder.layer.6.intermediate.dense.bias',\n",
              " 'inp2emb.encoder.layer.6.output.dense.weight',\n",
              " 'inp2emb.encoder.layer.6.output.dense.bias',\n",
              " 'inp2emb.encoder.layer.6.output.LayerNorm.weight',\n",
              " 'inp2emb.encoder.layer.6.output.LayerNorm.bias',\n",
              " 'inp2emb.encoder.layer.7.attention.self.query.weight',\n",
              " 'inp2emb.encoder.layer.7.attention.self.query.bias',\n",
              " 'inp2emb.encoder.layer.7.attention.self.key.weight',\n",
              " 'inp2emb.encoder.layer.7.attention.self.key.bias',\n",
              " 'inp2emb.encoder.layer.7.attention.self.value.weight',\n",
              " 'inp2emb.encoder.layer.7.attention.self.value.bias',\n",
              " 'inp2emb.encoder.layer.7.attention.output.dense.weight',\n",
              " 'inp2emb.encoder.layer.7.attention.output.dense.bias',\n",
              " 'inp2emb.encoder.layer.7.attention.output.LayerNorm.weight',\n",
              " 'inp2emb.encoder.layer.7.attention.output.LayerNorm.bias',\n",
              " 'inp2emb.encoder.layer.7.intermediate.dense.weight',\n",
              " 'inp2emb.encoder.layer.7.intermediate.dense.bias',\n",
              " 'inp2emb.encoder.layer.7.output.dense.weight',\n",
              " 'inp2emb.encoder.layer.7.output.dense.bias',\n",
              " 'inp2emb.encoder.layer.7.output.LayerNorm.weight',\n",
              " 'inp2emb.encoder.layer.7.output.LayerNorm.bias',\n",
              " 'inp2emb.encoder.layer.8.attention.self.query.weight',\n",
              " 'inp2emb.encoder.layer.8.attention.self.query.bias',\n",
              " 'inp2emb.encoder.layer.8.attention.self.key.weight',\n",
              " 'inp2emb.encoder.layer.8.attention.self.key.bias',\n",
              " 'inp2emb.encoder.layer.8.attention.self.value.weight',\n",
              " 'inp2emb.encoder.layer.8.attention.self.value.bias',\n",
              " 'inp2emb.encoder.layer.8.attention.output.dense.weight',\n",
              " 'inp2emb.encoder.layer.8.attention.output.dense.bias',\n",
              " 'inp2emb.encoder.layer.8.attention.output.LayerNorm.weight',\n",
              " 'inp2emb.encoder.layer.8.attention.output.LayerNorm.bias',\n",
              " 'inp2emb.encoder.layer.8.intermediate.dense.weight',\n",
              " 'inp2emb.encoder.layer.8.intermediate.dense.bias',\n",
              " 'inp2emb.encoder.layer.8.output.dense.weight',\n",
              " 'inp2emb.encoder.layer.8.output.dense.bias',\n",
              " 'inp2emb.encoder.layer.8.output.LayerNorm.weight',\n",
              " 'inp2emb.encoder.layer.8.output.LayerNorm.bias',\n",
              " 'inp2emb.encoder.layer.9.attention.self.query.weight',\n",
              " 'inp2emb.encoder.layer.9.attention.self.query.bias',\n",
              " 'inp2emb.encoder.layer.9.attention.self.key.weight',\n",
              " 'inp2emb.encoder.layer.9.attention.self.key.bias',\n",
              " 'inp2emb.encoder.layer.9.attention.self.value.weight',\n",
              " 'inp2emb.encoder.layer.9.attention.self.value.bias',\n",
              " 'inp2emb.encoder.layer.9.attention.output.dense.weight',\n",
              " 'inp2emb.encoder.layer.9.attention.output.dense.bias',\n",
              " 'inp2emb.encoder.layer.9.attention.output.LayerNorm.weight',\n",
              " 'inp2emb.encoder.layer.9.attention.output.LayerNorm.bias',\n",
              " 'inp2emb.encoder.layer.9.intermediate.dense.weight',\n",
              " 'inp2emb.encoder.layer.9.intermediate.dense.bias',\n",
              " 'inp2emb.encoder.layer.9.output.dense.weight',\n",
              " 'inp2emb.encoder.layer.9.output.dense.bias',\n",
              " 'inp2emb.encoder.layer.9.output.LayerNorm.weight',\n",
              " 'inp2emb.encoder.layer.9.output.LayerNorm.bias',\n",
              " 'inp2emb.encoder.layer.10.attention.self.query.weight',\n",
              " 'inp2emb.encoder.layer.10.attention.self.query.bias',\n",
              " 'inp2emb.encoder.layer.10.attention.self.key.weight',\n",
              " 'inp2emb.encoder.layer.10.attention.self.key.bias',\n",
              " 'inp2emb.encoder.layer.10.attention.self.value.weight',\n",
              " 'inp2emb.encoder.layer.10.attention.self.value.bias',\n",
              " 'inp2emb.encoder.layer.10.attention.output.dense.weight',\n",
              " 'inp2emb.encoder.layer.10.attention.output.dense.bias',\n",
              " 'inp2emb.encoder.layer.10.attention.output.LayerNorm.weight',\n",
              " 'inp2emb.encoder.layer.10.attention.output.LayerNorm.bias',\n",
              " 'inp2emb.encoder.layer.10.intermediate.dense.weight',\n",
              " 'inp2emb.encoder.layer.10.intermediate.dense.bias',\n",
              " 'inp2emb.encoder.layer.10.output.dense.weight',\n",
              " 'inp2emb.encoder.layer.10.output.dense.bias',\n",
              " 'inp2emb.encoder.layer.10.output.LayerNorm.weight',\n",
              " 'inp2emb.encoder.layer.10.output.LayerNorm.bias',\n",
              " 'inp2emb.encoder.layer.11.attention.self.query.weight',\n",
              " 'inp2emb.encoder.layer.11.attention.self.query.bias',\n",
              " 'inp2emb.encoder.layer.11.attention.self.key.weight',\n",
              " 'inp2emb.encoder.layer.11.attention.self.key.bias',\n",
              " 'inp2emb.encoder.layer.11.attention.self.value.weight',\n",
              " 'inp2emb.encoder.layer.11.attention.self.value.bias',\n",
              " 'inp2emb.encoder.layer.11.attention.output.dense.weight',\n",
              " 'inp2emb.encoder.layer.11.attention.output.dense.bias',\n",
              " 'inp2emb.encoder.layer.11.attention.output.LayerNorm.weight',\n",
              " 'inp2emb.encoder.layer.11.attention.output.LayerNorm.bias',\n",
              " 'inp2emb.encoder.layer.11.intermediate.dense.weight',\n",
              " 'inp2emb.encoder.layer.11.intermediate.dense.bias',\n",
              " 'inp2emb.encoder.layer.11.output.dense.weight',\n",
              " 'inp2emb.encoder.layer.11.output.dense.bias',\n",
              " 'inp2emb.encoder.layer.11.output.LayerNorm.weight',\n",
              " 'inp2emb.encoder.layer.11.output.LayerNorm.bias',\n",
              " 'inp2emb.pooler.dense.weight',\n",
              " 'inp2emb.pooler.dense.bias',\n",
              " 'emb2out.weight',\n",
              " 'emb2out.bias']"
            ]
          },
          "metadata": {
            "tags": []
          },
          "execution_count": 46
        }
      ]
    },
    {
      "cell_type": "code",
      "metadata": {
        "colab": {
          "base_uri": "https://localhost:8080/"
        },
        "id": "AsRD-0d5GC7C",
        "outputId": "2fe3af15-b3e2-474d-de29-3f0ebf445546"
      },
      "source": [
        "list(model.state_dict().keys())"
      ],
      "execution_count": null,
      "outputs": [
        {
          "output_type": "execute_result",
          "data": {
            "text/plain": [
              "['embedding.inp2emb.embeddings.position_ids',\n",
              " 'embedding.inp2emb.embeddings.word_embeddings.weight',\n",
              " 'embedding.inp2emb.embeddings.position_embeddings.weight',\n",
              " 'embedding.inp2emb.embeddings.token_type_embeddings.weight',\n",
              " 'embedding.inp2emb.embeddings.LayerNorm.weight',\n",
              " 'embedding.inp2emb.embeddings.LayerNorm.bias',\n",
              " 'embedding.inp2emb.encoder.layer.0.attention.self.query.weight',\n",
              " 'embedding.inp2emb.encoder.layer.0.attention.self.query.bias',\n",
              " 'embedding.inp2emb.encoder.layer.0.attention.self.key.weight',\n",
              " 'embedding.inp2emb.encoder.layer.0.attention.self.key.bias',\n",
              " 'embedding.inp2emb.encoder.layer.0.attention.self.value.weight',\n",
              " 'embedding.inp2emb.encoder.layer.0.attention.self.value.bias',\n",
              " 'embedding.inp2emb.encoder.layer.0.attention.output.dense.weight',\n",
              " 'embedding.inp2emb.encoder.layer.0.attention.output.dense.bias',\n",
              " 'embedding.inp2emb.encoder.layer.0.attention.output.LayerNorm.weight',\n",
              " 'embedding.inp2emb.encoder.layer.0.attention.output.LayerNorm.bias',\n",
              " 'embedding.inp2emb.encoder.layer.0.intermediate.dense.weight',\n",
              " 'embedding.inp2emb.encoder.layer.0.intermediate.dense.bias',\n",
              " 'embedding.inp2emb.encoder.layer.0.output.dense.weight',\n",
              " 'embedding.inp2emb.encoder.layer.0.output.dense.bias',\n",
              " 'embedding.inp2emb.encoder.layer.0.output.LayerNorm.weight',\n",
              " 'embedding.inp2emb.encoder.layer.0.output.LayerNorm.bias',\n",
              " 'embedding.inp2emb.encoder.layer.1.attention.self.query.weight',\n",
              " 'embedding.inp2emb.encoder.layer.1.attention.self.query.bias',\n",
              " 'embedding.inp2emb.encoder.layer.1.attention.self.key.weight',\n",
              " 'embedding.inp2emb.encoder.layer.1.attention.self.key.bias',\n",
              " 'embedding.inp2emb.encoder.layer.1.attention.self.value.weight',\n",
              " 'embedding.inp2emb.encoder.layer.1.attention.self.value.bias',\n",
              " 'embedding.inp2emb.encoder.layer.1.attention.output.dense.weight',\n",
              " 'embedding.inp2emb.encoder.layer.1.attention.output.dense.bias',\n",
              " 'embedding.inp2emb.encoder.layer.1.attention.output.LayerNorm.weight',\n",
              " 'embedding.inp2emb.encoder.layer.1.attention.output.LayerNorm.bias',\n",
              " 'embedding.inp2emb.encoder.layer.1.intermediate.dense.weight',\n",
              " 'embedding.inp2emb.encoder.layer.1.intermediate.dense.bias',\n",
              " 'embedding.inp2emb.encoder.layer.1.output.dense.weight',\n",
              " 'embedding.inp2emb.encoder.layer.1.output.dense.bias',\n",
              " 'embedding.inp2emb.encoder.layer.1.output.LayerNorm.weight',\n",
              " 'embedding.inp2emb.encoder.layer.1.output.LayerNorm.bias',\n",
              " 'embedding.inp2emb.encoder.layer.2.attention.self.query.weight',\n",
              " 'embedding.inp2emb.encoder.layer.2.attention.self.query.bias',\n",
              " 'embedding.inp2emb.encoder.layer.2.attention.self.key.weight',\n",
              " 'embedding.inp2emb.encoder.layer.2.attention.self.key.bias',\n",
              " 'embedding.inp2emb.encoder.layer.2.attention.self.value.weight',\n",
              " 'embedding.inp2emb.encoder.layer.2.attention.self.value.bias',\n",
              " 'embedding.inp2emb.encoder.layer.2.attention.output.dense.weight',\n",
              " 'embedding.inp2emb.encoder.layer.2.attention.output.dense.bias',\n",
              " 'embedding.inp2emb.encoder.layer.2.attention.output.LayerNorm.weight',\n",
              " 'embedding.inp2emb.encoder.layer.2.attention.output.LayerNorm.bias',\n",
              " 'embedding.inp2emb.encoder.layer.2.intermediate.dense.weight',\n",
              " 'embedding.inp2emb.encoder.layer.2.intermediate.dense.bias',\n",
              " 'embedding.inp2emb.encoder.layer.2.output.dense.weight',\n",
              " 'embedding.inp2emb.encoder.layer.2.output.dense.bias',\n",
              " 'embedding.inp2emb.encoder.layer.2.output.LayerNorm.weight',\n",
              " 'embedding.inp2emb.encoder.layer.2.output.LayerNorm.bias',\n",
              " 'embedding.inp2emb.encoder.layer.3.attention.self.query.weight',\n",
              " 'embedding.inp2emb.encoder.layer.3.attention.self.query.bias',\n",
              " 'embedding.inp2emb.encoder.layer.3.attention.self.key.weight',\n",
              " 'embedding.inp2emb.encoder.layer.3.attention.self.key.bias',\n",
              " 'embedding.inp2emb.encoder.layer.3.attention.self.value.weight',\n",
              " 'embedding.inp2emb.encoder.layer.3.attention.self.value.bias',\n",
              " 'embedding.inp2emb.encoder.layer.3.attention.output.dense.weight',\n",
              " 'embedding.inp2emb.encoder.layer.3.attention.output.dense.bias',\n",
              " 'embedding.inp2emb.encoder.layer.3.attention.output.LayerNorm.weight',\n",
              " 'embedding.inp2emb.encoder.layer.3.attention.output.LayerNorm.bias',\n",
              " 'embedding.inp2emb.encoder.layer.3.intermediate.dense.weight',\n",
              " 'embedding.inp2emb.encoder.layer.3.intermediate.dense.bias',\n",
              " 'embedding.inp2emb.encoder.layer.3.output.dense.weight',\n",
              " 'embedding.inp2emb.encoder.layer.3.output.dense.bias',\n",
              " 'embedding.inp2emb.encoder.layer.3.output.LayerNorm.weight',\n",
              " 'embedding.inp2emb.encoder.layer.3.output.LayerNorm.bias',\n",
              " 'embedding.inp2emb.encoder.layer.4.attention.self.query.weight',\n",
              " 'embedding.inp2emb.encoder.layer.4.attention.self.query.bias',\n",
              " 'embedding.inp2emb.encoder.layer.4.attention.self.key.weight',\n",
              " 'embedding.inp2emb.encoder.layer.4.attention.self.key.bias',\n",
              " 'embedding.inp2emb.encoder.layer.4.attention.self.value.weight',\n",
              " 'embedding.inp2emb.encoder.layer.4.attention.self.value.bias',\n",
              " 'embedding.inp2emb.encoder.layer.4.attention.output.dense.weight',\n",
              " 'embedding.inp2emb.encoder.layer.4.attention.output.dense.bias',\n",
              " 'embedding.inp2emb.encoder.layer.4.attention.output.LayerNorm.weight',\n",
              " 'embedding.inp2emb.encoder.layer.4.attention.output.LayerNorm.bias',\n",
              " 'embedding.inp2emb.encoder.layer.4.intermediate.dense.weight',\n",
              " 'embedding.inp2emb.encoder.layer.4.intermediate.dense.bias',\n",
              " 'embedding.inp2emb.encoder.layer.4.output.dense.weight',\n",
              " 'embedding.inp2emb.encoder.layer.4.output.dense.bias',\n",
              " 'embedding.inp2emb.encoder.layer.4.output.LayerNorm.weight',\n",
              " 'embedding.inp2emb.encoder.layer.4.output.LayerNorm.bias',\n",
              " 'embedding.inp2emb.encoder.layer.5.attention.self.query.weight',\n",
              " 'embedding.inp2emb.encoder.layer.5.attention.self.query.bias',\n",
              " 'embedding.inp2emb.encoder.layer.5.attention.self.key.weight',\n",
              " 'embedding.inp2emb.encoder.layer.5.attention.self.key.bias',\n",
              " 'embedding.inp2emb.encoder.layer.5.attention.self.value.weight',\n",
              " 'embedding.inp2emb.encoder.layer.5.attention.self.value.bias',\n",
              " 'embedding.inp2emb.encoder.layer.5.attention.output.dense.weight',\n",
              " 'embedding.inp2emb.encoder.layer.5.attention.output.dense.bias',\n",
              " 'embedding.inp2emb.encoder.layer.5.attention.output.LayerNorm.weight',\n",
              " 'embedding.inp2emb.encoder.layer.5.attention.output.LayerNorm.bias',\n",
              " 'embedding.inp2emb.encoder.layer.5.intermediate.dense.weight',\n",
              " 'embedding.inp2emb.encoder.layer.5.intermediate.dense.bias',\n",
              " 'embedding.inp2emb.encoder.layer.5.output.dense.weight',\n",
              " 'embedding.inp2emb.encoder.layer.5.output.dense.bias',\n",
              " 'embedding.inp2emb.encoder.layer.5.output.LayerNorm.weight',\n",
              " 'embedding.inp2emb.encoder.layer.5.output.LayerNorm.bias',\n",
              " 'embedding.inp2emb.encoder.layer.6.attention.self.query.weight',\n",
              " 'embedding.inp2emb.encoder.layer.6.attention.self.query.bias',\n",
              " 'embedding.inp2emb.encoder.layer.6.attention.self.key.weight',\n",
              " 'embedding.inp2emb.encoder.layer.6.attention.self.key.bias',\n",
              " 'embedding.inp2emb.encoder.layer.6.attention.self.value.weight',\n",
              " 'embedding.inp2emb.encoder.layer.6.attention.self.value.bias',\n",
              " 'embedding.inp2emb.encoder.layer.6.attention.output.dense.weight',\n",
              " 'embedding.inp2emb.encoder.layer.6.attention.output.dense.bias',\n",
              " 'embedding.inp2emb.encoder.layer.6.attention.output.LayerNorm.weight',\n",
              " 'embedding.inp2emb.encoder.layer.6.attention.output.LayerNorm.bias',\n",
              " 'embedding.inp2emb.encoder.layer.6.intermediate.dense.weight',\n",
              " 'embedding.inp2emb.encoder.layer.6.intermediate.dense.bias',\n",
              " 'embedding.inp2emb.encoder.layer.6.output.dense.weight',\n",
              " 'embedding.inp2emb.encoder.layer.6.output.dense.bias',\n",
              " 'embedding.inp2emb.encoder.layer.6.output.LayerNorm.weight',\n",
              " 'embedding.inp2emb.encoder.layer.6.output.LayerNorm.bias',\n",
              " 'embedding.inp2emb.encoder.layer.7.attention.self.query.weight',\n",
              " 'embedding.inp2emb.encoder.layer.7.attention.self.query.bias',\n",
              " 'embedding.inp2emb.encoder.layer.7.attention.self.key.weight',\n",
              " 'embedding.inp2emb.encoder.layer.7.attention.self.key.bias',\n",
              " 'embedding.inp2emb.encoder.layer.7.attention.self.value.weight',\n",
              " 'embedding.inp2emb.encoder.layer.7.attention.self.value.bias',\n",
              " 'embedding.inp2emb.encoder.layer.7.attention.output.dense.weight',\n",
              " 'embedding.inp2emb.encoder.layer.7.attention.output.dense.bias',\n",
              " 'embedding.inp2emb.encoder.layer.7.attention.output.LayerNorm.weight',\n",
              " 'embedding.inp2emb.encoder.layer.7.attention.output.LayerNorm.bias',\n",
              " 'embedding.inp2emb.encoder.layer.7.intermediate.dense.weight',\n",
              " 'embedding.inp2emb.encoder.layer.7.intermediate.dense.bias',\n",
              " 'embedding.inp2emb.encoder.layer.7.output.dense.weight',\n",
              " 'embedding.inp2emb.encoder.layer.7.output.dense.bias',\n",
              " 'embedding.inp2emb.encoder.layer.7.output.LayerNorm.weight',\n",
              " 'embedding.inp2emb.encoder.layer.7.output.LayerNorm.bias',\n",
              " 'embedding.inp2emb.encoder.layer.8.attention.self.query.weight',\n",
              " 'embedding.inp2emb.encoder.layer.8.attention.self.query.bias',\n",
              " 'embedding.inp2emb.encoder.layer.8.attention.self.key.weight',\n",
              " 'embedding.inp2emb.encoder.layer.8.attention.self.key.bias',\n",
              " 'embedding.inp2emb.encoder.layer.8.attention.self.value.weight',\n",
              " 'embedding.inp2emb.encoder.layer.8.attention.self.value.bias',\n",
              " 'embedding.inp2emb.encoder.layer.8.attention.output.dense.weight',\n",
              " 'embedding.inp2emb.encoder.layer.8.attention.output.dense.bias',\n",
              " 'embedding.inp2emb.encoder.layer.8.attention.output.LayerNorm.weight',\n",
              " 'embedding.inp2emb.encoder.layer.8.attention.output.LayerNorm.bias',\n",
              " 'embedding.inp2emb.encoder.layer.8.intermediate.dense.weight',\n",
              " 'embedding.inp2emb.encoder.layer.8.intermediate.dense.bias',\n",
              " 'embedding.inp2emb.encoder.layer.8.output.dense.weight',\n",
              " 'embedding.inp2emb.encoder.layer.8.output.dense.bias',\n",
              " 'embedding.inp2emb.encoder.layer.8.output.LayerNorm.weight',\n",
              " 'embedding.inp2emb.encoder.layer.8.output.LayerNorm.bias',\n",
              " 'embedding.inp2emb.encoder.layer.9.attention.self.query.weight',\n",
              " 'embedding.inp2emb.encoder.layer.9.attention.self.query.bias',\n",
              " 'embedding.inp2emb.encoder.layer.9.attention.self.key.weight',\n",
              " 'embedding.inp2emb.encoder.layer.9.attention.self.key.bias',\n",
              " 'embedding.inp2emb.encoder.layer.9.attention.self.value.weight',\n",
              " 'embedding.inp2emb.encoder.layer.9.attention.self.value.bias',\n",
              " 'embedding.inp2emb.encoder.layer.9.attention.output.dense.weight',\n",
              " 'embedding.inp2emb.encoder.layer.9.attention.output.dense.bias',\n",
              " 'embedding.inp2emb.encoder.layer.9.attention.output.LayerNorm.weight',\n",
              " 'embedding.inp2emb.encoder.layer.9.attention.output.LayerNorm.bias',\n",
              " 'embedding.inp2emb.encoder.layer.9.intermediate.dense.weight',\n",
              " 'embedding.inp2emb.encoder.layer.9.intermediate.dense.bias',\n",
              " 'embedding.inp2emb.encoder.layer.9.output.dense.weight',\n",
              " 'embedding.inp2emb.encoder.layer.9.output.dense.bias',\n",
              " 'embedding.inp2emb.encoder.layer.9.output.LayerNorm.weight',\n",
              " 'embedding.inp2emb.encoder.layer.9.output.LayerNorm.bias',\n",
              " 'embedding.inp2emb.encoder.layer.10.attention.self.query.weight',\n",
              " 'embedding.inp2emb.encoder.layer.10.attention.self.query.bias',\n",
              " 'embedding.inp2emb.encoder.layer.10.attention.self.key.weight',\n",
              " 'embedding.inp2emb.encoder.layer.10.attention.self.key.bias',\n",
              " 'embedding.inp2emb.encoder.layer.10.attention.self.value.weight',\n",
              " 'embedding.inp2emb.encoder.layer.10.attention.self.value.bias',\n",
              " 'embedding.inp2emb.encoder.layer.10.attention.output.dense.weight',\n",
              " 'embedding.inp2emb.encoder.layer.10.attention.output.dense.bias',\n",
              " 'embedding.inp2emb.encoder.layer.10.attention.output.LayerNorm.weight',\n",
              " 'embedding.inp2emb.encoder.layer.10.attention.output.LayerNorm.bias',\n",
              " 'embedding.inp2emb.encoder.layer.10.intermediate.dense.weight',\n",
              " 'embedding.inp2emb.encoder.layer.10.intermediate.dense.bias',\n",
              " 'embedding.inp2emb.encoder.layer.10.output.dense.weight',\n",
              " 'embedding.inp2emb.encoder.layer.10.output.dense.bias',\n",
              " 'embedding.inp2emb.encoder.layer.10.output.LayerNorm.weight',\n",
              " 'embedding.inp2emb.encoder.layer.10.output.LayerNorm.bias',\n",
              " 'embedding.inp2emb.encoder.layer.11.attention.self.query.weight',\n",
              " 'embedding.inp2emb.encoder.layer.11.attention.self.query.bias',\n",
              " 'embedding.inp2emb.encoder.layer.11.attention.self.key.weight',\n",
              " 'embedding.inp2emb.encoder.layer.11.attention.self.key.bias',\n",
              " 'embedding.inp2emb.encoder.layer.11.attention.self.value.weight',\n",
              " 'embedding.inp2emb.encoder.layer.11.attention.self.value.bias',\n",
              " 'embedding.inp2emb.encoder.layer.11.attention.output.dense.weight',\n",
              " 'embedding.inp2emb.encoder.layer.11.attention.output.dense.bias',\n",
              " 'embedding.inp2emb.encoder.layer.11.attention.output.LayerNorm.weight',\n",
              " 'embedding.inp2emb.encoder.layer.11.attention.output.LayerNorm.bias',\n",
              " 'embedding.inp2emb.encoder.layer.11.intermediate.dense.weight',\n",
              " 'embedding.inp2emb.encoder.layer.11.intermediate.dense.bias',\n",
              " 'embedding.inp2emb.encoder.layer.11.output.dense.weight',\n",
              " 'embedding.inp2emb.encoder.layer.11.output.dense.bias',\n",
              " 'embedding.inp2emb.encoder.layer.11.output.LayerNorm.weight',\n",
              " 'embedding.inp2emb.encoder.layer.11.output.LayerNorm.bias',\n",
              " 'embedding.inp2emb.pooler.dense.weight',\n",
              " 'embedding.inp2emb.pooler.dense.bias',\n",
              " 'transition.vec2vec0_0.weight',\n",
              " 'transition.vec2vec0_0.bias']"
            ]
          },
          "metadata": {
            "tags": []
          },
          "execution_count": 40
        }
      ]
    },
    {
      "cell_type": "code",
      "metadata": {
        "id": "ur1nS5maGpby"
      },
      "source": [
        "old_dict = torch.load(model_path + 'Agg_02_3e5.pt')"
      ],
      "execution_count": null,
      "outputs": []
    },
    {
      "cell_type": "code",
      "metadata": {
        "id": "usKYLS8zGy_h"
      },
      "source": [
        "from collections import OrderedDict"
      ],
      "execution_count": null,
      "outputs": []
    },
    {
      "cell_type": "code",
      "metadata": {
        "id": "tTxHiW_ZGrhc"
      },
      "source": [
        "new_dict = OrderedDict()"
      ],
      "execution_count": null,
      "outputs": []
    },
    {
      "cell_type": "code",
      "metadata": {
        "id": "9_dHVGk7G60x"
      },
      "source": [
        "rule = {\n",
        "    'inp2emb' : nnsa.ModuleConst.EMBED + '.' + nnsa.ModuleConst.INP2EMB,\n",
        "    'emb2out' : nnsa.ModuleConst.TRANS + '.' + nnsa.ModuleConst.VEC2VEC + '0_0'\n",
        "}"
      ],
      "execution_count": null,
      "outputs": []
    },
    {
      "cell_type": "code",
      "metadata": {
        "id": "ejXAw3kdHl3B"
      },
      "source": [
        "for key, val in old_dict.items():\n",
        "  new_dict[rule[key[:7]] + key[7:]] = val"
      ],
      "execution_count": null,
      "outputs": []
    },
    {
      "cell_type": "code",
      "metadata": {
        "colab": {
          "base_uri": "https://localhost:8080/"
        },
        "id": "Tx0UgryIIMEh",
        "outputId": "059e86e0-a3d7-44eb-da6f-877d17d74524"
      },
      "source": [
        "new_dict['transition.vec2vec0_0.weight']"
      ],
      "execution_count": null,
      "outputs": [
        {
          "output_type": "execute_result",
          "data": {
            "text/plain": [
              "tensor([[-0.0152,  0.0207,  0.0095,  ..., -0.0067, -0.0163, -0.0037],\n",
              "        [ 0.0222, -0.0227, -0.0194,  ..., -0.0095, -0.0131, -0.0345],\n",
              "        [-0.0019,  0.0295,  0.0013,  ...,  0.0207, -0.0056,  0.0018]],\n",
              "       device='cuda:0')"
            ]
          },
          "metadata": {
            "tags": []
          },
          "execution_count": 54
        }
      ]
    },
    {
      "cell_type": "code",
      "metadata": {
        "colab": {
          "base_uri": "https://localhost:8080/"
        },
        "id": "QLRmRhm-IeQA",
        "outputId": "593f0e72-9fe9-4c7b-c358-26ba14385311"
      },
      "source": [
        "model.load_state_dict(new_dict)"
      ],
      "execution_count": null,
      "outputs": [
        {
          "output_type": "execute_result",
          "data": {
            "text/plain": [
              "<All keys matched successfully>"
            ]
          },
          "metadata": {
            "tags": []
          },
          "execution_count": 56
        }
      ]
    },
    {
      "cell_type": "code",
      "metadata": {
        "id": "c6FLAQHqJCXY"
      },
      "source": [
        "model = model.to(device)"
      ],
      "execution_count": null,
      "outputs": []
    },
    {
      "cell_type": "code",
      "metadata": {
        "colab": {
          "base_uri": "https://localhost:8080/"
        },
        "id": "7Na35ax0IhlK",
        "outputId": "3a2708a6-1807-46e6-937f-224e457d2aa2"
      },
      "source": [
        "res = eval(model, ld_test, crit, device, len(df_test))"
      ],
      "execution_count": null,
      "outputs": [
        {
          "output_type": "stream",
          "text": [
            "/usr/local/lib/python3.7/dist-packages/transformers/tokenization_utils_base.py:2110: FutureWarning: The `pad_to_max_length` argument is deprecated and will be removed in a future version, use `padding=True` or `padding='longest'` to pad to the longest sequence in the batch, or use `padding='max_length'` to pad to a max length. In this case, you can give a specific length with `max_length` (e.g. `max_length=45`) or leave max_length to None to pad to the maximal input size of the model (e.g. 512 for Bert).\n",
            "  FutureWarning,\n"
          ],
          "name": "stderr"
        }
      ]
    },
    {
      "cell_type": "code",
      "metadata": {
        "colab": {
          "base_uri": "https://localhost:8080/"
        },
        "id": "g4QShcu3JHD4",
        "outputId": "c0f10138-649e-4205-db97-5716267a4c80"
      },
      "source": [
        "res[0].item()"
      ],
      "execution_count": null,
      "outputs": [
        {
          "output_type": "execute_result",
          "data": {
            "text/plain": [
              "0.8692063492063492"
            ]
          },
          "metadata": {
            "tags": []
          },
          "execution_count": 65
        }
      ]
    },
    {
      "cell_type": "markdown",
      "metadata": {
        "id": "cmBShx7AJr5m"
      },
      "source": [
        "JSON"
      ]
    }
  ]
}